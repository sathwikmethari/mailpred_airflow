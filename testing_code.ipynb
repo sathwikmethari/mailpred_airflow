{
 "cells": [
  {
   "cell_type": "code",
   "execution_count": 1,
   "id": "2c4f6dab",
   "metadata": {},
   "outputs": [
    {
     "name": "stdout",
     "output_type": "stream",
     "text": [
      "PyTorch version: 2.8.0+cu129\n",
      "CUDA available: True\n"
     ]
    },
    {
     "name": "stderr",
     "output_type": "stream",
     "text": [
      "Some weights of DistilBertForSequenceClassification were not initialized from the model checkpoint at distilbert-base-uncased and are newly initialized: ['classifier.bias', 'classifier.weight', 'pre_classifier.bias', 'pre_classifier.weight']\n",
      "You should probably TRAIN this model on a down-stream task to be able to use it for predictions and inference.\n"
     ]
    }
   ],
   "source": [
    "import os, torch\n",
    "import pandas as pd\n",
    "from dotenv import load_dotenv\n",
    "from dags.utils import decode_zip, extract_headers, decode_body\n",
    "from transformers import AutoModel, AutoModelForSequenceClassification, AutoTokenizer, Trainer, TrainingArguments\n",
    "\n",
    "print(\"PyTorch version:\", torch.__version__)\n",
    "print(\"CUDA available:\", torch.cuda.is_available()) \n",
    "# load_dotenv()\n",
    "# # SCOPES: Gmail read-only\n",
    "# SCOPES = ['https://www.googleapis.com/auth/gmail.readonly']\n",
    "# token_path = os.getenv(\"token_path\")\n",
    "# credentials_path = os.getenv(\"credentials_path\")\n",
    "\n",
    "model_name = \"distilbert-base-uncased\"\n",
    "tokenizer = AutoTokenizer.from_pretrained(model_name)\n",
    "model = AutoModelForSequenceClassification.from_pretrained(model_name, num_labels = 2)\n",
    "model_2 = AutoModel.from_pretrained(model_name)"
   ]
  },
  {
   "cell_type": "code",
   "execution_count": 2,
   "id": "4c1da765",
   "metadata": {},
   "outputs": [
    {
     "data": {
      "text/html": [
       "<div>\n",
       "<style scoped>\n",
       "    .dataframe tbody tr th:only-of-type {\n",
       "        vertical-align: middle;\n",
       "    }\n",
       "\n",
       "    .dataframe tbody tr th {\n",
       "        vertical-align: top;\n",
       "    }\n",
       "\n",
       "    .dataframe thead th {\n",
       "        text-align: right;\n",
       "    }\n",
       "</style>\n",
       "<table border=\"1\" class=\"dataframe\">\n",
       "  <thead>\n",
       "    <tr style=\"text-align: right;\">\n",
       "      <th></th>\n",
       "      <th>Subject</th>\n",
       "      <th>Body</th>\n",
       "      <th>Important</th>\n",
       "    </tr>\n",
       "  </thead>\n",
       "  <tbody>\n",
       "    <tr>\n",
       "      <th>0</th>\n",
       "      <td>artificial intelligence engineer the reliable ...</td>\n",
       "      <td>the reliable jobs artificial intelligence engi...</td>\n",
       "      <td>0</td>\n",
       "    </tr>\n",
       "    <tr>\n",
       "      <th>1</th>\n",
       "      <td>get 7 days of unrestricted learning</td>\n",
       "      <td>hey sathwik have you ever felt that little spa...</td>\n",
       "      <td>0</td>\n",
       "    </tr>\n",
       "  </tbody>\n",
       "</table>\n",
       "</div>"
      ],
      "text/plain": [
       "                                             Subject  \\\n",
       "0  artificial intelligence engineer the reliable ...   \n",
       "1                get 7 days of unrestricted learning   \n",
       "\n",
       "                                                Body  Important  \n",
       "0  the reliable jobs artificial intelligence engi...          0  \n",
       "1  hey sathwik have you ever felt that little spa...          0  "
      ]
     },
     "execution_count": 2,
     "metadata": {},
     "output_type": "execute_result"
    }
   ],
   "source": [
    "path_1 = \"data/imp_22-08-2025-03-23.json.gz\"\n",
    "path_2 = \"data/unimp_22-08-2025-03-23.json.gz\"\n",
    "decompressed_data_1 = decode_zip(path_1)\n",
    "decompressed_data_2 = decode_zip(path_2)\n",
    "\n",
    "df_imp =pd.DataFrame(decompressed_data_1)\n",
    "df_unimp =pd.DataFrame(decompressed_data_2)\n",
    "\n",
    "df_imp[\"Subject\"] = df_imp[\"Payload\"].apply(lambda x: pd.Series(extract_headers(x)))\n",
    "df_imp[\"Body\"] = df_imp[\"Payload\"].apply(decode_body)\n",
    "df_imp[\"Important\"] = 1\n",
    "df_imp = df_imp.drop([\"Id\", \"Payload\"], axis=1)\n",
    "\n",
    "df_unimp[\"Subject\"] = df_unimp[\"Payload\"].apply(extract_headers)\n",
    "df_unimp[\"Body\"] = df_unimp[\"Payload\"].apply(decode_body)\n",
    "df_unimp[\"Important\"] = 0\n",
    "df_unimp = df_unimp.drop([\"Id\", \"Payload\"], axis=1)\n",
    "df_unimp.head(2)"
   ]
  },
  {
   "cell_type": "code",
   "execution_count": 3,
   "id": "62f1814d",
   "metadata": {},
   "outputs": [
    {
     "data": {
      "text/html": [
       "<div>\n",
       "<style scoped>\n",
       "    .dataframe tbody tr th:only-of-type {\n",
       "        vertical-align: middle;\n",
       "    }\n",
       "\n",
       "    .dataframe tbody tr th {\n",
       "        vertical-align: top;\n",
       "    }\n",
       "\n",
       "    .dataframe thead th {\n",
       "        text-align: right;\n",
       "    }\n",
       "</style>\n",
       "<table border=\"1\" class=\"dataframe\">\n",
       "  <thead>\n",
       "    <tr style=\"text-align: right;\">\n",
       "      <th></th>\n",
       "      <th>Subject</th>\n",
       "      <th>Body</th>\n",
       "      <th>Important</th>\n",
       "    </tr>\n",
       "  </thead>\n",
       "  <tbody>\n",
       "    <tr>\n",
       "      <th>0</th>\n",
       "      <td>important scheduled maintenance affecting serv...</td>\n",
       "      <td>hello sathwik please note there will be essent...</td>\n",
       "      <td>1</td>\n",
       "    </tr>\n",
       "    <tr>\n",
       "      <th>1</th>\n",
       "      <td>urgent housing application expiry warning</td>\n",
       "      <td>hi sathwik your housing application will expir...</td>\n",
       "      <td>1</td>\n",
       "    </tr>\n",
       "  </tbody>\n",
       "</table>\n",
       "</div>"
      ],
      "text/plain": [
       "                                             Subject  \\\n",
       "0  important scheduled maintenance affecting serv...   \n",
       "1          urgent housing application expiry warning   \n",
       "\n",
       "                                                Body  Important  \n",
       "0  hello sathwik please note there will be essent...          1  \n",
       "1  hi sathwik your housing application will expir...          1  "
      ]
     },
     "execution_count": 3,
     "metadata": {},
     "output_type": "execute_result"
    }
   ],
   "source": [
    "df_imp.head(2)"
   ]
  },
  {
   "cell_type": "code",
   "execution_count": 4,
   "id": "5890c64d",
   "metadata": {},
   "outputs": [
    {
     "data": {
      "text/plain": [
       "Subject       0\n",
       "Body         53\n",
       "Important     0\n",
       "dtype: int64"
      ]
     },
     "execution_count": 4,
     "metadata": {},
     "output_type": "execute_result"
    }
   ],
   "source": [
    "train = pd.concat([df_imp, df_unimp])\n",
    "train.isnull().sum()"
   ]
  },
  {
   "cell_type": "code",
   "execution_count": 23,
   "id": "25c3c410",
   "metadata": {},
   "outputs": [],
   "source": [
    "train[\"Body\"] = train[\"Body\"].fillna(train[\"Subject\"])\n",
    "\n",
    "train[\"subject_tokenized\"] = train[\"Subject\"].apply(lambda x: tokenizer(x, truncation=True, max_length=50, padding=True, return_tensors=\"pt\"))\n",
    "train[\"body_tokenized\"] = train[\"Body\"].apply(lambda x: tokenizer(x, truncation=True, max_length=512, padding=True, return_tensors=\"pt\"))"
   ]
  },
  {
   "cell_type": "code",
   "execution_count": 24,
   "id": "d5cc142a",
   "metadata": {},
   "outputs": [
    {
     "data": {
      "text/html": [
       "<div>\n",
       "<style scoped>\n",
       "    .dataframe tbody tr th:only-of-type {\n",
       "        vertical-align: middle;\n",
       "    }\n",
       "\n",
       "    .dataframe tbody tr th {\n",
       "        vertical-align: top;\n",
       "    }\n",
       "\n",
       "    .dataframe thead th {\n",
       "        text-align: right;\n",
       "    }\n",
       "</style>\n",
       "<table border=\"1\" class=\"dataframe\">\n",
       "  <thead>\n",
       "    <tr style=\"text-align: right;\">\n",
       "      <th></th>\n",
       "      <th>Subject</th>\n",
       "      <th>Body</th>\n",
       "      <th>Important</th>\n",
       "      <th>subject_tokenized</th>\n",
       "      <th>body_tokenized</th>\n",
       "    </tr>\n",
       "  </thead>\n",
       "  <tbody>\n",
       "    <tr>\n",
       "      <th>0</th>\n",
       "      <td>important scheduled maintenance affecting serv...</td>\n",
       "      <td>hello sathwik please note there will be essent...</td>\n",
       "      <td>1</td>\n",
       "      <td>[input_ids, attention_mask]</td>\n",
       "      <td>[input_ids, attention_mask]</td>\n",
       "    </tr>\n",
       "    <tr>\n",
       "      <th>1</th>\n",
       "      <td>urgent housing application expiry warning</td>\n",
       "      <td>hi sathwik your housing application will expir...</td>\n",
       "      <td>1</td>\n",
       "      <td>[input_ids, attention_mask]</td>\n",
       "      <td>[input_ids, attention_mask]</td>\n",
       "    </tr>\n",
       "  </tbody>\n",
       "</table>\n",
       "</div>"
      ],
      "text/plain": [
       "                                             Subject  \\\n",
       "0  important scheduled maintenance affecting serv...   \n",
       "1          urgent housing application expiry warning   \n",
       "\n",
       "                                                Body  Important  \\\n",
       "0  hello sathwik please note there will be essent...          1   \n",
       "1  hi sathwik your housing application will expir...          1   \n",
       "\n",
       "             subject_tokenized               body_tokenized  \n",
       "0  [input_ids, attention_mask]  [input_ids, attention_mask]  \n",
       "1  [input_ids, attention_mask]  [input_ids, attention_mask]  "
      ]
     },
     "execution_count": 24,
     "metadata": {},
     "output_type": "execute_result"
    }
   ],
   "source": [
    "train.head(2)"
   ]
  },
  {
   "cell_type": "code",
   "execution_count": 25,
   "id": "6c7ce8c4",
   "metadata": {},
   "outputs": [],
   "source": [
    "body_tokens = train.loc[:, \"body_tokenized\"].values\n",
    "subject_tokens = train.loc[:, \"subject_tokenized\"].values\n",
    "labels = train.loc[:,\"Important\"].values "
   ]
  },
  {
   "cell_type": "code",
   "execution_count": 42,
   "id": "a7968f44",
   "metadata": {},
   "outputs": [],
   "source": [
    "vv = train.loc[:, [\"Important\", \"subject_tokenized\"]].values"
   ]
  },
  {
   "cell_type": "code",
   "execution_count": 26,
   "id": "fb14d2a3",
   "metadata": {},
   "outputs": [],
   "source": [
    "import umap\n",
    "import numpy as np\n",
    "import matplotlib.pyplot as plt\n",
    "from dags.utils import get_embeddings_from_token"
   ]
  },
  {
   "cell_type": "code",
   "execution_count": 27,
   "id": "4d34830c",
   "metadata": {},
   "outputs": [],
   "source": [
    "body_embd = get_embeddings_from_token(model_name, body_tokens)"
   ]
  },
  {
   "cell_type": "code",
   "execution_count": 12,
   "id": "56908c17",
   "metadata": {},
   "outputs": [],
   "source": [
    "subject_embd = get_embeddings_from_token(model_name, subject_tokens)"
   ]
  },
  {
   "cell_type": "code",
   "execution_count": 15,
   "id": "5185f59f",
   "metadata": {},
   "outputs": [],
   "source": [
    "# # UMAP reduction to 2D\n",
    "# umap_model = umap.UMAP(n_neighbors=10, min_dist=0.3, random_state=42, n_components=2)\n",
    "# emb_2d = umap_model.fit_transform(embeddings)\n",
    "\n",
    "# # Some Overlap is expected\n",
    "# #High-dimensional separation may not be visible in 2d\n",
    "# #Can try diff embedding/tokenizer\n",
    "\n",
    "\n",
    "# # Scatterplot\n",
    "# plt.figure(figsize=(6, 4))\n",
    "# scatter = plt.scatter(emb_2d[:, 0], emb_2d[:, 1], c=labels, cmap=\"Spectral\", alpha=0.8)\n",
    "# plt.xlabel(\"UMAP-1\")\n",
    "# plt.ylabel(\"UMAP-2\")\n",
    "# plt.title(\"Sentence Embeddings with UMAP (colored by label)\")\n",
    "# plt.colorbar(scatter, label=\"Dependent Variable (0/1)\")\n",
    "# plt.show()"
   ]
  },
  {
   "cell_type": "code",
   "execution_count": 44,
   "id": "39fa67f7",
   "metadata": {},
   "outputs": [],
   "source": [
    "X = np.concatenate((body_embd, subject_embd,),axis = 1)\n",
    "y = labels"
   ]
  },
  {
   "cell_type": "code",
   "execution_count": 47,
   "id": "b4b12a14",
   "metadata": {},
   "outputs": [
    {
     "data": {
      "text/plain": [
       "(308, 1536)"
      ]
     },
     "execution_count": 47,
     "metadata": {},
     "output_type": "execute_result"
    }
   ],
   "source": [
    "X.shape"
   ]
  },
  {
   "cell_type": "code",
   "execution_count": 71,
   "id": "c2dd69cf",
   "metadata": {},
   "outputs": [],
   "source": [
    "from sklearn.model_selection import train_test_split\n",
    "import xgboost as xgb\n",
    "X_train, X_test, y_train, y_test = train_test_split(X, y, test_size = 0.25, shuffle=True, random_state=42)\n",
    "\n",
    "\n",
    "dtrain = xgb.DMatrix(X_train, label=y_train)\n",
    "params = {\n",
    "    \"objective\": \"binary:logistic\", \n",
    "    \"eval_metric\": \"logloss\",\n",
    "    \"eta\": 0.1,\n",
    "    \"max_depth\": 6\n",
    "}\n",
    "model = xgb.train(params, dtrain, num_boost_round=200)"
   ]
  },
  {
   "cell_type": "code",
   "execution_count": 72,
   "id": "3e9e0773",
   "metadata": {},
   "outputs": [],
   "source": [
    "dunlabeled = xgb.DMatrix(X_test)\n",
    "y_pred_proba = model.predict(dunlabeled)"
   ]
  },
  {
   "cell_type": "code",
   "execution_count": 73,
   "id": "28487743",
   "metadata": {},
   "outputs": [],
   "source": [
    "# Convert probabilities to binary predictions\n",
    "y_pred_binary = (y_pred_proba >= 0.45).astype(int)"
   ]
  },
  {
   "cell_type": "code",
   "execution_count": 74,
   "id": "46dbc00b",
   "metadata": {},
   "outputs": [],
   "source": [
    "from sklearn.metrics import confusion_matrix\n",
    "cm =confusion_matrix(y_test, y_pred_binary)"
   ]
  },
  {
   "cell_type": "code",
   "execution_count": 75,
   "id": "24c73781",
   "metadata": {},
   "outputs": [
    {
     "name": "stdout",
     "output_type": "stream",
     "text": [
      "[[33  4]\n",
      " [ 5 35]]\n"
     ]
    }
   ],
   "source": [
    "print(cm)"
   ]
  },
  {
   "cell_type": "code",
   "execution_count": 85,
   "id": "c4203a78",
   "metadata": {},
   "outputs": [],
   "source": [
    "sub = \"“artificial intelligence engineer”: Cloud 9 Solutions, LLC - Artificial Intelligence Engineer\"\n",
    "body = \"\"\"Your job listings for 22 August 2025\n",
    "Data Scientist\n",
    "\tRemote, India\n",
    "\t\n",
    "\n",
    "ZENOFFI E-LEARNING LABB TRAINING SOLUTIONS PRIVATE LIMITED\n",
    "\n",
    "Data Science Intern\n",
    "\n",
    "Remote\n",
    "\n",
    "₹25K (Employer Est.)\n",
    "\t\n",
    "\n",
    "Easy Apply\n",
    "\t\n",
    "\n",
    "Placement Hub\n",
    "\n",
    "AI/ML Engineer\n",
    "\n",
    "Remote\n",
    "\n",
    "₹4L - ₹17L (Employer Est.)\n",
    "\t\n",
    "\n",
    "Easy Apply\n",
    "\t\n",
    "\n",
    "Norstella\n",
    "\t\n",
    "\n",
    "3.6 ★\n",
    "\n",
    "Associate Data Scientist\n",
    "\n",
    "Remote\n",
    "\n",
    "Provident Fund\t\n",
    "\n",
    "Engineering\t\n",
    "\n",
    "Full-time\t\n",
    "\n",
    "Remote\n",
    "\t\n",
    "Hubooze\n",
    "\n",
    "Data Science Intern\n",
    "\n",
    "Remote\t\n",
    "\n",
    "Easy Apply\n",
    "\n",
    "\n",
    "VWorker Solutions India Pvt Ltd\n",
    "\n",
    "Data Scientist\n",
    "\n",
    "Remote\n",
    "\n",
    "₹30K (Employer Est.)\n",
    "\t\n",
    "Easy Apply\n",
    "\n",
    "Waayslive Solutions\n",
    "\t\n",
    "2. ★\n",
    "\n",
    "ML Engineer\n",
    "\n",
    "Remote\n",
    "\n",
    "₹14L (Employer Est.)\n",
    "\n",
    "Easy Apply\n",
    "TensorFlow\t\n",
    "Azure\t\n",
    "Kubernetes\t\n",
    "PyTorch\n",
    "\t\n",
    "Crowd4Test\n",
    "computer vision& Gen AI Intern\n",
    "Remote\n",
    "\t\n",
    "Easy Apply\t\n",
    "Group 8a\n",
    "AI/ML Developer\n",
    "Remote\n",
    "\t\n",
    "Easy Apply\t\n",
    "AI Academia\n",
    "\n",
    "AI/ML Mentor\"\"\""
   ]
  },
  {
   "cell_type": "code",
   "execution_count": 86,
   "id": "0f135cc9",
   "metadata": {},
   "outputs": [],
   "source": [
    "from dags.utils import preprocess_email_body\n",
    "body = preprocess_email_body(body)"
   ]
  },
  {
   "cell_type": "code",
   "execution_count": 90,
   "id": "7a608f16",
   "metadata": {},
   "outputs": [],
   "source": [
    "body_t = tokenizer(body, truncation=True, max_length=50, padding=True, return_tensors=\"pt\")\n",
    "sub_t = tokenizer(sub, truncation=True, max_length=50, padding=True, return_tensors=\"pt\")"
   ]
  },
  {
   "cell_type": "code",
   "execution_count": 92,
   "id": "a934b154",
   "metadata": {},
   "outputs": [
    {
     "data": {
      "text/plain": [
       "{'input_ids': tensor([[  101,  2115,  3105, 26213,  2005,  2570,  2257, 16798,  2629,  2951,\n",
       "          7155,  6556,  2634, 16729,  7245,  2072,  3449, 14644,  5582,  6845,\n",
       "          2497,  2731,  7300,  2797,  3132,  2951,  2671, 25204,  6556,  1576,\n",
       "         17788,  2243, 11194,  9765,  3733,  6611, 11073,  9594,  6614,  2140,\n",
       "          3992,  6556,  1576,  2549,  2140,  1576, 16576,  2140, 11194,   102]]), 'attention_mask': tensor([[1, 1, 1, 1, 1, 1, 1, 1, 1, 1, 1, 1, 1, 1, 1, 1, 1, 1, 1, 1, 1, 1, 1, 1,\n",
       "         1, 1, 1, 1, 1, 1, 1, 1, 1, 1, 1, 1, 1, 1, 1, 1, 1, 1, 1, 1, 1, 1, 1, 1,\n",
       "         1, 1]])}"
      ]
     },
     "execution_count": 92,
     "metadata": {},
     "output_type": "execute_result"
    }
   ],
   "source": [
    "body_t"
   ]
  },
  {
   "cell_type": "code",
   "execution_count": 93,
   "id": "3b657374",
   "metadata": {},
   "outputs": [],
   "source": [
    "b_e = get_embeddings_from_token(model_name, [body_t])\n",
    "s_e = get_embeddings_from_token(model_name, [sub_t])"
   ]
  },
  {
   "cell_type": "code",
   "execution_count": 95,
   "id": "4d064b0c",
   "metadata": {},
   "outputs": [],
   "source": [
    "xx = xgb.DMatrix(np.concatenate((b_e, s_e,),axis = 1))\n",
    "y_pred_proba = model.predict(xx)"
   ]
  },
  {
   "cell_type": "code",
   "execution_count": 96,
   "id": "3b5770c4",
   "metadata": {},
   "outputs": [
    {
     "data": {
      "text/plain": [
       "array([0.21637449], dtype=float32)"
      ]
     },
     "execution_count": 96,
     "metadata": {},
     "output_type": "execute_result"
    }
   ],
   "source": [
    "y_pred_proba"
   ]
  },
  {
   "cell_type": "code",
   "execution_count": null,
   "id": "aafe5931",
   "metadata": {},
   "outputs": [],
   "source": []
  }
 ],
 "metadata": {
  "kernelspec": {
   "display_name": "airflow-docker",
   "language": "python",
   "name": "python3"
  },
  "language_info": {
   "codemirror_mode": {
    "name": "ipython",
    "version": 3
   },
   "file_extension": ".py",
   "mimetype": "text/x-python",
   "name": "python",
   "nbconvert_exporter": "python",
   "pygments_lexer": "ipython3",
   "version": "3.12.11"
  }
 },
 "nbformat": 4,
 "nbformat_minor": 5
}
