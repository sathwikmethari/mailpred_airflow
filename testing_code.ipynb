{
 "cells": [
  {
   "cell_type": "code",
   "execution_count": 1,
   "id": "2c4f6dab",
   "metadata": {},
   "outputs": [
    {
     "name": "stdout",
     "output_type": "stream",
     "text": [
      "PyTorch version: 2.8.0+cu129\n",
      "CUDA available: True\n"
     ]
    }
   ],
   "source": [
    "import os, torch, umap\n",
    "import numpy as np\n",
    "import pandas as pd\n",
    "from dotenv import load_dotenv\n",
    "import matplotlib.pyplot as plt\n",
    "from dags.utils import decode_zip, extract_headers, decode_body\n",
    "from transformers import AutoModel, AutoTokenizer\n",
    "\n",
    "print(\"PyTorch version:\", torch.__version__)\n",
    "print(\"CUDA available:\", torch.cuda.is_available()) \n",
    "# load_dotenv()\n",
    "# # SCOPES: Gmail read-only\n",
    "# SCOPES = ['https://www.googleapis.com/auth/gmail.readonly']\n",
    "# token_path = os.getenv(\"token_path\")\n",
    "# credentials_path = os.getenv(\"credentials_path\")\n",
    "\n",
    "model_name = \"distilbert-base-uncased\"\n",
    "tokenizer = AutoTokenizer.from_pretrained(model_name)\n",
    "model = AutoModel.from_pretrained(model_name)"
   ]
  },
  {
   "cell_type": "code",
   "execution_count": 2,
   "id": "71f04f26",
   "metadata": {},
   "outputs": [
    {
     "data": {
      "text/plain": [
       "transformers.models.distilbert.tokenization_distilbert_fast.DistilBertTokenizerFast"
      ]
     },
     "execution_count": 2,
     "metadata": {},
     "output_type": "execute_result"
    }
   ],
   "source": [
    "type(tokenizer)"
   ]
  },
  {
   "cell_type": "code",
   "execution_count": 3,
   "id": "4c1da765",
   "metadata": {},
   "outputs": [
    {
     "data": {
      "text/html": [
       "<div>\n",
       "<style scoped>\n",
       "    .dataframe tbody tr th:only-of-type {\n",
       "        vertical-align: middle;\n",
       "    }\n",
       "\n",
       "    .dataframe tbody tr th {\n",
       "        vertical-align: top;\n",
       "    }\n",
       "\n",
       "    .dataframe thead th {\n",
       "        text-align: right;\n",
       "    }\n",
       "</style>\n",
       "<table border=\"1\" class=\"dataframe\">\n",
       "  <thead>\n",
       "    <tr style=\"text-align: right;\">\n",
       "      <th></th>\n",
       "      <th>Subject</th>\n",
       "      <th>Body</th>\n",
       "      <th>Important</th>\n",
       "    </tr>\n",
       "  </thead>\n",
       "  <tbody>\n",
       "    <tr>\n",
       "      <th>0</th>\n",
       "      <td>artificial intelligence engineer the reliable ...</td>\n",
       "      <td>the reliable jobs artificial intelligence engi...</td>\n",
       "      <td>0</td>\n",
       "    </tr>\n",
       "    <tr>\n",
       "      <th>1</th>\n",
       "      <td>get 7 days of unrestricted learning</td>\n",
       "      <td>hey sathwik have you ever felt that little spa...</td>\n",
       "      <td>0</td>\n",
       "    </tr>\n",
       "  </tbody>\n",
       "</table>\n",
       "</div>"
      ],
      "text/plain": [
       "                                             Subject  \\\n",
       "0  artificial intelligence engineer the reliable ...   \n",
       "1                get 7 days of unrestricted learning   \n",
       "\n",
       "                                                Body  Important  \n",
       "0  the reliable jobs artificial intelligence engi...          0  \n",
       "1  hey sathwik have you ever felt that little spa...          0  "
      ]
     },
     "execution_count": 3,
     "metadata": {},
     "output_type": "execute_result"
    }
   ],
   "source": [
    "path_1 = \"data/imp_22-08-2025-03-23.json.gz\"\n",
    "path_2 = \"data/unimp_22-08-2025-03-23.json.gz\"\n",
    "decompressed_data_1 = decode_zip(path_1)\n",
    "decompressed_data_2 = decode_zip(path_2)\n",
    "\n",
    "df_imp =pd.DataFrame(decompressed_data_1)\n",
    "df_unimp =pd.DataFrame(decompressed_data_2)\n",
    "\n",
    "df_imp[\"Subject\"] = df_imp[\"Payload\"].apply(lambda x: pd.Series(extract_headers(x)))\n",
    "df_imp[\"Body\"] = df_imp[\"Payload\"].apply(decode_body)\n",
    "df_imp[\"Important\"] = 1\n",
    "df_imp = df_imp.drop([\"Id\", \"Payload\"], axis=1)\n",
    "\n",
    "df_unimp[\"Subject\"] = df_unimp[\"Payload\"].apply(extract_headers)\n",
    "df_unimp[\"Body\"] = df_unimp[\"Payload\"].apply(decode_body)\n",
    "df_unimp[\"Important\"] = 0\n",
    "df_unimp = df_unimp.drop([\"Id\", \"Payload\"], axis=1)\n",
    "df_unimp.head(2)"
   ]
  },
  {
   "cell_type": "code",
   "execution_count": 4,
   "id": "62f1814d",
   "metadata": {},
   "outputs": [
    {
     "data": {
      "text/html": [
       "<div>\n",
       "<style scoped>\n",
       "    .dataframe tbody tr th:only-of-type {\n",
       "        vertical-align: middle;\n",
       "    }\n",
       "\n",
       "    .dataframe tbody tr th {\n",
       "        vertical-align: top;\n",
       "    }\n",
       "\n",
       "    .dataframe thead th {\n",
       "        text-align: right;\n",
       "    }\n",
       "</style>\n",
       "<table border=\"1\" class=\"dataframe\">\n",
       "  <thead>\n",
       "    <tr style=\"text-align: right;\">\n",
       "      <th></th>\n",
       "      <th>Subject</th>\n",
       "      <th>Body</th>\n",
       "      <th>Important</th>\n",
       "    </tr>\n",
       "  </thead>\n",
       "  <tbody>\n",
       "    <tr>\n",
       "      <th>0</th>\n",
       "      <td>important scheduled maintenance affecting serv...</td>\n",
       "      <td>hello sathwik please note there will be essent...</td>\n",
       "      <td>1</td>\n",
       "    </tr>\n",
       "    <tr>\n",
       "      <th>1</th>\n",
       "      <td>urgent housing application expiry warning</td>\n",
       "      <td>hi sathwik your housing application will expir...</td>\n",
       "      <td>1</td>\n",
       "    </tr>\n",
       "  </tbody>\n",
       "</table>\n",
       "</div>"
      ],
      "text/plain": [
       "                                             Subject  \\\n",
       "0  important scheduled maintenance affecting serv...   \n",
       "1          urgent housing application expiry warning   \n",
       "\n",
       "                                                Body  Important  \n",
       "0  hello sathwik please note there will be essent...          1  \n",
       "1  hi sathwik your housing application will expir...          1  "
      ]
     },
     "execution_count": 4,
     "metadata": {},
     "output_type": "execute_result"
    }
   ],
   "source": [
    "df_imp.head(2)"
   ]
  },
  {
   "cell_type": "code",
   "execution_count": 5,
   "id": "5890c64d",
   "metadata": {},
   "outputs": [
    {
     "data": {
      "text/plain": [
       "Subject       0\n",
       "Body         53\n",
       "Important     0\n",
       "dtype: int64"
      ]
     },
     "execution_count": 5,
     "metadata": {},
     "output_type": "execute_result"
    }
   ],
   "source": [
    "train = pd.concat([df_imp, df_unimp])\n",
    "train.isnull().sum()"
   ]
  },
  {
   "cell_type": "code",
   "execution_count": 6,
   "id": "25c3c410",
   "metadata": {},
   "outputs": [],
   "source": [
    "train[\"Body\"] = train[\"Body\"].fillna(train[\"Subject\"])"
   ]
  },
  {
   "cell_type": "code",
   "execution_count": 7,
   "id": "632378d4",
   "metadata": {},
   "outputs": [],
   "source": [
    "\"\"\" Tokenizer takes input list[str], list[list[str]], not just str!!! \"\"\"\n",
    "\n",
    "# Way Faster and then doing .apply ele wise\n",
    "sub_list = train.loc[:, \"Subject\"].astype(str).tolist() # turns object to string and returns list of strs\n",
    "body_list = train.loc[:, \"Body\"].astype(str).tolist()\n",
    "\n",
    "sub_tokenized = tokenizer(sub_list, truncation=True, max_length=50, padding=True, return_tensors=\"pt\")\n",
    "body_tokenized = tokenizer(body_list, truncation=True, max_length=512, padding=True, return_tensors=\"pt\")\n",
    "\n",
    "# LOL forgot about this\n",
    "if torch.cuda.is_available():\n",
    "    model.cuda()\n",
    "    sub_tokenized = {k: v.cuda() for k, v in sub_tokenized.items()}\n",
    "    body_tokenized = {k: v.cuda() for k, v in body_tokenized.items()}\n"
   ]
  },
  {
   "cell_type": "code",
   "execution_count": 8,
   "id": "76a8f7d4",
   "metadata": {},
   "outputs": [],
   "source": [
    "with torch.no_grad():\n",
    "    sub_outputs = model(**sub_tokenized)\n",
    "    body_outputs = model(**body_tokenized)\n",
    "\n",
    "    sub_cls_embeddings_t = sub_outputs.last_hidden_state[:, 0, :]\n",
    "    body_cls_embeddings_t = body_outputs.last_hidden_state[:, 0, :]\n",
    "\n",
    "    embd = torch.cat((sub_cls_embeddings_t, body_cls_embeddings_t), 1).detach().cpu().numpy() # moves tensor from gpu to cpu"
   ]
  },
  {
   "cell_type": "code",
   "execution_count": 9,
   "id": "5185f59f",
   "metadata": {},
   "outputs": [],
   "source": [
    "# # UMAP reduction to 2D\n",
    "# umap_model = umap.UMAP(n_neighbors=10, min_dist=0.3, random_state=42, n_components=2)\n",
    "# emb_2d = umap_model.fit_transform(embeddings)\n",
    "\n",
    "# # Some Overlap is expected\n",
    "# #High-dimensional separation may not be visible in 2d\n",
    "# #Can try diff embedding/tokenizer\n",
    "\n",
    "\n",
    "# # Scatterplot\n",
    "# plt.figure(figsize=(6, 4))\n",
    "# scatter = plt.scatter(emb_2d[:, 0], emb_2d[:, 1], c=labels, cmap=\"Spectral\", alpha=0.8)\n",
    "# plt.xlabel(\"UMAP-1\")\n",
    "# plt.ylabel(\"UMAP-2\")\n",
    "# plt.title(\"Sentence Embeddings with UMAP (colored by label)\")\n",
    "# plt.colorbar(scatter, label=\"Dependent Variable (0/1)\")\n",
    "# plt.show()"
   ]
  },
  {
   "cell_type": "code",
   "execution_count": 10,
   "id": "39fa67f7",
   "metadata": {},
   "outputs": [],
   "source": [
    "labels = train.loc[:,\"Important\"].values \n",
    "\n",
    "X = embd\n",
    "y = labels"
   ]
  },
  {
   "cell_type": "code",
   "execution_count": 11,
   "id": "c2dd69cf",
   "metadata": {},
   "outputs": [],
   "source": [
    "from sklearn.model_selection import train_test_split\n",
    "import xgboost as xgb\n",
    "X_train, X_test, y_train, y_test = train_test_split(X, y, test_size = 0.25, shuffle=True, random_state=0)\n",
    "\n",
    "\n",
    "dtrain = xgb.DMatrix(X_train, label=y_train)\n",
    "params = {\n",
    "    \"objective\": \"binary:logistic\", \n",
    "    \"eval_metric\": \"logloss\",\n",
    "    \"eta\": 0.1,\n",
    "    \"max_depth\": 15\n",
    "}\n",
    "model = xgb.train(params, dtrain, num_boost_round=200)"
   ]
  },
  {
   "cell_type": "code",
   "execution_count": 12,
   "id": "3e9e0773",
   "metadata": {},
   "outputs": [],
   "source": [
    "dunlabeled = xgb.DMatrix(X_test)\n",
    "y_pred_proba = model.predict(dunlabeled)"
   ]
  },
  {
   "cell_type": "code",
   "execution_count": 13,
   "id": "28487743",
   "metadata": {},
   "outputs": [],
   "source": [
    "# Convert probabilities to binary predictions\n",
    "# Decrease threshold for negating False Negatives\n",
    "y_pred_binary = (y_pred_proba >= 0.40).astype(int)"
   ]
  },
  {
   "cell_type": "code",
   "execution_count": 14,
   "id": "46dbc00b",
   "metadata": {},
   "outputs": [],
   "source": [
    "from sklearn.metrics import confusion_matrix\n",
    "cm =confusion_matrix(y_test, y_pred_binary)"
   ]
  },
  {
   "cell_type": "code",
   "execution_count": 15,
   "id": "24c73781",
   "metadata": {},
   "outputs": [
    {
     "name": "stdout",
     "output_type": "stream",
     "text": [
      "[[32  5]\n",
      " [ 2 38]]\n"
     ]
    }
   ],
   "source": [
    "print(cm)"
   ]
  },
  {
   "cell_type": "code",
   "execution_count": 16,
   "id": "ca1a5471",
   "metadata": {},
   "outputs": [
    {
     "data": {
      "text/plain": [
       "'[[34  3]\\n [ 5 35]]'"
      ]
     },
     "execution_count": 16,
     "metadata": {},
     "output_type": "execute_result"
    }
   ],
   "source": [
    "\"\"\"[[34  3]\n",
    " [ 5 35]]\"\"\""
   ]
  },
  {
   "cell_type": "code",
   "execution_count": 17,
   "id": "c4203a78",
   "metadata": {},
   "outputs": [],
   "source": [
    "sub = \"“artificial intelligence engineer”: Cloud 9 Solutions, LLC - Artificial Intelligence Engineer\"\n",
    "body = \"\"\" \n",
    "\n",
    "\"\"\""
   ]
  },
  {
   "cell_type": "code",
   "execution_count": null,
   "id": "989283b6",
   "metadata": {},
   "outputs": [],
   "source": []
  }
 ],
 "metadata": {
  "kernelspec": {
   "display_name": "airflow-docker",
   "language": "python",
   "name": "python3"
  },
  "language_info": {
   "codemirror_mode": {
    "name": "ipython",
    "version": 3
   },
   "file_extension": ".py",
   "mimetype": "text/x-python",
   "name": "python",
   "nbconvert_exporter": "python",
   "pygments_lexer": "ipython3",
   "version": "3.12.11"
  }
 },
 "nbformat": 4,
 "nbformat_minor": 5
}
