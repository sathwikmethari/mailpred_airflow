{
 "cells": [
  {
   "cell_type": "code",
   "execution_count": 1,
   "id": "2c4f6dab",
   "metadata": {},
   "outputs": [
    {
     "name": "stdout",
     "output_type": "stream",
     "text": [
      "PyTorch version: 2.8.0+cu129\n",
      "CUDA available: True\n"
     ]
    }
   ],
   "source": [
    "import os, torch, umap\n",
    "import numpy as np\n",
    "import pandas as pd\n",
    "from dotenv import load_dotenv\n",
    "import matplotlib.pyplot as plt\n",
    "from dags.utils.utils import decode_zip, extract_headers, decode_body\n",
    "from transformers import AutoModel, AutoTokenizer\n",
    "\n",
    "print(\"PyTorch version:\", torch.__version__)\n",
    "print(\"CUDA available:\", torch.cuda.is_available()) \n",
    "# load_dotenv()\n",
    "# # SCOPES: Gmail read-only\n",
    "# SCOPES = ['https://www.googleapis.com/auth/gmail.readonly']\n",
    "# token_path = os.getenv(\"token_path\")\n",
    "# credentials_path = os.getenv(\"credentials_path\")\n",
    "\n",
    "model_name = \"distilbert-base-uncased\"\n",
    "tokenizer = AutoTokenizer.from_pretrained(model_name)\n",
    "model = AutoModel.from_pretrained(model_name)"
   ]
  },
  {
   "cell_type": "code",
   "execution_count": 7,
   "id": "4c1da765",
   "metadata": {},
   "outputs": [],
   "source": [
    "path_1 = \"data/imp_22-08-2025-03-23.json.gz\"\n",
    "path_2 = \"data/unimp_22-08-2025-03-23.json.gz\"\n",
    "decompressed_data_1 = decode_zip(path_1)\n",
    "decompressed_data_2 = decode_zip(path_2)\n",
    "\n",
    "df_imp =pd.DataFrame(decompressed_data_1)[[\"Payload\"]]\n",
    "df_unimp =pd.DataFrame(decompressed_data_2)[[\"Payload\"]]\n",
    "\n",
    "df_imp[\"Subject\"] = df_imp[\"Payload\"].apply(extract_headers)\n",
    "df_imp[\"Body\"] = df_imp[\"Payload\"].apply(decode_body)\n",
    "df_imp[\"Important\"] = 1\n",
    "df_imp = df_imp.drop([\"Payload\"], axis=1)\n",
    "\n",
    "df_unimp[\"Subject\"] = df_unimp[\"Payload\"].apply(extract_headers)\n",
    "df_unimp[\"Body\"] = df_unimp[\"Payload\"].apply(decode_body)\n",
    "df_unimp[\"Important\"] = 0\n",
    "df_unimp = df_unimp.drop([\"Payload\"], axis=1)"
   ]
  },
  {
   "cell_type": "code",
   "execution_count": 4,
   "id": "5890c64d",
   "metadata": {},
   "outputs": [
    {
     "data": {
      "text/plain": [
       "Subject       0\n",
       "Body         53\n",
       "Important     0\n",
       "dtype: int64"
      ]
     },
     "execution_count": 4,
     "metadata": {},
     "output_type": "execute_result"
    }
   ],
   "source": [
    "train = pd.concat([df_imp, df_unimp])\n",
    "train.isnull().sum()"
   ]
  },
  {
   "cell_type": "code",
   "execution_count": 20,
   "id": "25c3c410",
   "metadata": {},
   "outputs": [],
   "source": [
    "train[\"Body\"] = train[\"Body\"].fillna(train[\"Subject\"]*5)"
   ]
  },
  {
   "cell_type": "code",
   "execution_count": null,
   "id": "632378d4",
   "metadata": {},
   "outputs": [],
   "source": [
    "from dags.utils.utils import get_embeddings"
   ]
  },
  {
   "cell_type": "code",
   "execution_count": 22,
   "id": "76a8f7d4",
   "metadata": {},
   "outputs": [],
   "source": [
    "embeddings = get_embeddings(train, model_name)"
   ]
  },
  {
   "cell_type": "code",
   "execution_count": 23,
   "id": "5185f59f",
   "metadata": {},
   "outputs": [],
   "source": [
    "# # UMAP reduction to 2D\n",
    "# umap_model = umap.UMAP(n_neighbors=10, min_dist=0.3, random_state=42, n_components=2)\n",
    "# emb_2d = umap_model.fit_transform(embeddings)\n",
    "\n",
    "# # Some Overlap is expected\n",
    "# #High-dimensional separation may not be visible in 2d\n",
    "# #Can try diff embedding/tokenizer\n",
    "\n",
    "\n",
    "# # Scatterplot\n",
    "# plt.figure(figsize=(6, 4))\n",
    "# scatter = plt.scatter(emb_2d[:, 0], emb_2d[:, 1], c=labels, cmap=\"Spectral\", alpha=0.8)\n",
    "# plt.xlabel(\"UMAP-1\")\n",
    "# plt.ylabel(\"UMAP-2\")\n",
    "# plt.title(\"Sentence Embeddings with UMAP (colored by label)\")\n",
    "# plt.colorbar(scatter, label=\"Dependent Variable (0/1)\")\n",
    "# plt.show()"
   ]
  },
  {
   "cell_type": "code",
   "execution_count": 24,
   "id": "39fa67f7",
   "metadata": {},
   "outputs": [],
   "source": [
    "labels = train.loc[:,\"Important\"].values \n",
    "\n",
    "X = embeddings\n",
    "y = torch.from_numpy(labels)"
   ]
  },
  {
   "cell_type": "code",
   "execution_count": 25,
   "id": "c2dd69cf",
   "metadata": {},
   "outputs": [],
   "source": [
    "from sklearn.model_selection import train_test_split\n",
    "import xgboost as xgb\n",
    "X_train, X_test, y_train, y_test = train_test_split(X, y, test_size = 0.20, shuffle=True, random_state=0)"
   ]
  },
  {
   "cell_type": "code",
   "execution_count": 26,
   "id": "2bcb987d",
   "metadata": {},
   "outputs": [
    {
     "data": {
      "text/plain": [
       "tensor([1, 1, 1, 1, 1, 0, 0, 0, 1, 1, 1, 0, 1, 0, 0, 1, 0, 1, 1, 1, 1, 0, 0, 0,\n",
       "        0, 1, 0, 0, 1, 1, 0, 0, 0, 0, 0, 0, 0, 1, 0, 0, 1, 0, 0, 1, 0, 0, 1, 0,\n",
       "        1, 0, 1, 0, 0, 1, 1, 0, 1, 0, 1, 0, 1, 1, 1, 0, 0, 0, 1, 0, 1, 0, 1, 0,\n",
       "        0, 1, 1, 1, 1, 0, 0, 1, 1, 1, 0, 1, 1, 1, 0, 0, 0, 1, 0, 1, 1, 0, 1, 0,\n",
       "        1, 1, 1, 1, 0, 0, 1, 0, 0, 0, 1, 1, 1, 0, 1, 0, 1, 1, 0, 1, 1, 1, 0, 1,\n",
       "        0, 0, 0, 1, 0, 1, 0, 0, 1, 0, 0, 0, 0, 1, 1, 1, 0, 0, 1, 1, 0, 1, 0, 1,\n",
       "        0, 0, 1, 0, 1, 1, 1, 0, 1, 0, 0, 0, 1, 1, 1, 1, 0, 1, 0, 1, 0, 0, 1, 1,\n",
       "        1, 0, 1, 0, 1, 0, 0, 0, 1, 1, 0, 1, 0, 1, 1, 0, 0, 1, 0, 1, 1, 0, 1, 1,\n",
       "        1, 1, 1, 0, 0, 1, 1, 0, 1, 1, 0, 1, 1, 0, 0, 1, 0, 0, 1, 1, 1, 0, 0, 0,\n",
       "        1, 0, 0, 1, 0, 0, 1, 0, 1, 1, 0, 0, 0, 0, 1, 0, 1, 1, 1, 0, 0, 0, 0, 1,\n",
       "        0, 0, 0, 1, 1, 0], device='cuda:0')"
      ]
     },
     "execution_count": 26,
     "metadata": {},
     "output_type": "execute_result"
    }
   ],
   "source": [
    "X_train.cuda()\n",
    "y_train.cuda()"
   ]
  },
  {
   "cell_type": "code",
   "execution_count": 27,
   "id": "99d8a20d",
   "metadata": {},
   "outputs": [],
   "source": [
    "dtrain = xgb.DMatrix(X_train, label=y_train)\n",
    "params = {\n",
    "    \"max_depth\": 13,\n",
    "    \"objective\": \"binary:logistic\", \n",
    "    \"eval_metric\": \"logloss\",\n",
    "    \"eta\": 0.08,\n",
    "    \"tree_method\": \"hist\",\n",
    "    \"device\": \"cuda\"\n",
    "}\n",
    "model = xgb.train(params, dtrain, num_boost_round=1000)"
   ]
  },
  {
   "cell_type": "code",
   "execution_count": 28,
   "id": "3e9e0773",
   "metadata": {},
   "outputs": [],
   "source": [
    "dunlabeled = xgb.DMatrix(X_test)\n",
    "y_pred_proba = model.predict(dunlabeled)\n",
    "\n",
    "# Convert probabilities to binary predictions\n",
    "# Decrease threshold for negating False Negatives\n",
    "y_pred_binary = (y_pred_proba >= 0.40).astype(int)"
   ]
  },
  {
   "cell_type": "code",
   "execution_count": 29,
   "id": "46dbc00b",
   "metadata": {},
   "outputs": [
    {
     "name": "stdout",
     "output_type": "stream",
     "text": [
      "[[25  6]\n",
      " [ 1 30]]\n"
     ]
    }
   ],
   "source": [
    "from sklearn.metrics import confusion_matrix\n",
    "cm =confusion_matrix(y_test, y_pred_binary)\n",
    "print(cm)"
   ]
  },
  {
   "cell_type": "code",
   "execution_count": null,
   "id": "c4203a78",
   "metadata": {},
   "outputs": [],
   "source": [
    "sub = \"\"\n",
    "body = \"\"\"\n",
    "\"\"\""
   ]
  },
  {
   "cell_type": "code",
   "execution_count": 54,
   "id": "4e2a16cf",
   "metadata": {},
   "outputs": [],
   "source": [
    "d_2={\n",
    "    \"Subject\": [sub],\n",
    "    \"Body\":[body]\n",
    "}\n",
    "df_2 = pd.DataFrame(d_2)"
   ]
  },
  {
   "cell_type": "code",
   "execution_count": 55,
   "id": "f6f16df2",
   "metadata": {},
   "outputs": [],
   "source": [
    "embeddings_2 =get_embeddings(df_2, model_name)"
   ]
  },
  {
   "cell_type": "code",
   "execution_count": 56,
   "id": "4482c57e",
   "metadata": {},
   "outputs": [
    {
     "name": "stdout",
     "output_type": "stream",
     "text": [
      "[0.71449816]\n"
     ]
    }
   ],
   "source": [
    "dunlabeled_2 = xgb.DMatrix(embeddings_2)\n",
    "y_pred_proba_2 = model.predict(dunlabeled_2)\n",
    "print(y_pred_proba_2)"
   ]
  }
 ],
 "metadata": {
  "kernelspec": {
   "display_name": "airflow-docker",
   "language": "python",
   "name": "python3"
  },
  "language_info": {
   "codemirror_mode": {
    "name": "ipython",
    "version": 3
   },
   "file_extension": ".py",
   "mimetype": "text/x-python",
   "name": "python",
   "nbconvert_exporter": "python",
   "pygments_lexer": "ipython3",
   "version": "3.12.11"
  }
 },
 "nbformat": 4,
 "nbformat_minor": 5
}
