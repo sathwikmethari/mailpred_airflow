{
 "cells": [
  {
   "cell_type": "code",
   "execution_count": 49,
   "id": "2c4f6dab",
   "metadata": {},
   "outputs": [],
   "source": [
    "import os\n",
    "from dotenv import load_dotenv\n",
    "load_dotenv()\n",
    "# SCOPES: Gmail read-only\n",
    "SCOPES = ['https://www.googleapis.com/auth/gmail.readonly']\n",
    "token_path = os.getenv(\"token_path\")\n",
    "credentials_path = os.getenv(\"credentials_path\")"
   ]
  },
  {
   "cell_type": "code",
   "execution_count": null,
   "id": "4c1da765",
   "metadata": {},
   "outputs": [],
   "source": [
    "import pandas as pd\n",
    "from dags.utils import decode_zip, extract_headers, decode_body \n",
    "path_1 = \"C:/airflow-docker/data/15-08-2025-10-41.json.gz\"\n",
    "path_2 = \"C:/airflow-docker/data/starred-19-08-2025-15-18.json.gz\"\n",
    "decompressed_data_1 = decode_zip(path_1)\n",
    "decompressed_data_2 = decode_zip(path_2)\n",
    "\n",
    "df =pd.DataFrame(decompressed_data_1)\n",
    "df2 =pd.DataFrame(decompressed_data_2)"
   ]
  },
  {
   "cell_type": "code",
   "execution_count": 64,
   "id": "98f16f87",
   "metadata": {},
   "outputs": [
    {
     "data": {
      "text/plain": [
       "Sender\n",
       "glassdoor jobs                        94\n",
       "linkedin job alerts                   31\n",
       "                                      19\n",
       "linkedin                              17\n",
       "freelancercom                         11\n",
       "naukri                                 8\n",
       "labmentix hr                           5\n",
       "jushey from instahyre                  4\n",
       "zepp student purchase program          4\n",
       "glassdoor                              4\n",
       "microsoft azure team                   4\n",
       "google                                 3\n",
       "delhivery limited                      3\n",
       "kaggle                                 3\n",
       "sathwik methari                        3\n",
       "code 360 by cn                         2\n",
       "glassdoor community                    2\n",
       "braintrust                             2\n",
       "noreplymaxonnet via relay              2\n",
       "hult international business school     2\n",
       "leetcode                               1\n",
       "adda247                                1\n",
       "lenovo listens                         1\n",
       "simplilearn webinars                   1\n",
       "vega intellisoft                       1\n",
       "astropay                               1\n",
       "linux foundation education             1\n",
       "walking tree                           1\n",
       "astronomer                             1\n",
       "ant at supabase                        1\n",
       "pioneer design                         1\n",
       "datacamp insights                      1\n",
       "anaconda                               1\n",
       "microsoft dynamics 365                 1\n",
       "naukri campus                          1\n",
       "the langchain team                     1\n",
       "orcapod consulting services            1\n",
       "jocelyn matthews                       1\n",
       "datacamp                               1\n",
       "youtube                                1\n",
       "ambitionbox                            1\n",
       "daniela moreno                         1\n",
       "team pinecone                          1\n",
       "addaeducation                          1\n",
       "edx                                    1\n",
       "microsoft                              1\n",
       "Name: count, dtype: int64"
      ]
     },
     "execution_count": 64,
     "metadata": {},
     "output_type": "execute_result"
    }
   ],
   "source": [
    "df[\"Sender\"].value_counts()"
   ]
  },
  {
   "cell_type": "code",
   "execution_count": 62,
   "id": "13a2bf1c",
   "metadata": {},
   "outputs": [
    {
     "data": {
      "text/html": [
       "<div>\n",
       "<style scoped>\n",
       "    .dataframe tbody tr th:only-of-type {\n",
       "        vertical-align: middle;\n",
       "    }\n",
       "\n",
       "    .dataframe tbody tr th {\n",
       "        vertical-align: top;\n",
       "    }\n",
       "\n",
       "    .dataframe thead th {\n",
       "        text-align: right;\n",
       "    }\n",
       "</style>\n",
       "<table border=\"1\" class=\"dataframe\">\n",
       "  <thead>\n",
       "    <tr style=\"text-align: right;\">\n",
       "      <th></th>\n",
       "      <th>Id</th>\n",
       "      <th>Subject</th>\n",
       "      <th>Sender</th>\n",
       "      <th>Body</th>\n",
       "      <th>Important</th>\n",
       "    </tr>\n",
       "  </thead>\n",
       "  <tbody>\n",
       "    <tr>\n",
       "      <th>0</th>\n",
       "      <td>198a74e16ed2573a</td>\n",
       "      <td>your fomo store shipment awb 27722210317645 is...</td>\n",
       "      <td>delhivery limited</td>\n",
       "      <td>order cancelled delivered hey methari satwik y...</td>\n",
       "      <td>1</td>\n",
       "    </tr>\n",
       "    <tr>\n",
       "      <th>1</th>\n",
       "      <td>198a8c9b7f0cb680</td>\n",
       "      <td>hpcl 2025 cbt admit card passport size photograph</td>\n",
       "      <td></td>\n",
       "      <td>dear candidate this has reference to your appl...</td>\n",
       "      <td>1</td>\n",
       "    </tr>\n",
       "    <tr>\n",
       "      <th>2</th>\n",
       "      <td>198aeae7ccd54d44</td>\n",
       "      <td>hpcl 2025 cbt admit card passport size photograph</td>\n",
       "      <td></td>\n",
       "      <td>dear candidate this has reference to your appl...</td>\n",
       "      <td>1</td>\n",
       "    </tr>\n",
       "    <tr>\n",
       "      <th>3</th>\n",
       "      <td>198a710359a7ded4</td>\n",
       "      <td>hpcl 2025 cbt admit card</td>\n",
       "      <td></td>\n",
       "      <td>dear candidate this has reference to your appl...</td>\n",
       "      <td>1</td>\n",
       "    </tr>\n",
       "    <tr>\n",
       "      <th>4</th>\n",
       "      <td>1989f70956b3f9f9</td>\n",
       "      <td>hpcl 2025 cbt admit card</td>\n",
       "      <td></td>\n",
       "      <td>dear candidate this has reference to your appl...</td>\n",
       "      <td>1</td>\n",
       "    </tr>\n",
       "  </tbody>\n",
       "</table>\n",
       "</div>"
      ],
      "text/plain": [
       "                 Id                                            Subject  \\\n",
       "0  198a74e16ed2573a  your fomo store shipment awb 27722210317645 is...   \n",
       "1  198a8c9b7f0cb680  hpcl 2025 cbt admit card passport size photograph   \n",
       "2  198aeae7ccd54d44  hpcl 2025 cbt admit card passport size photograph   \n",
       "3  198a710359a7ded4                           hpcl 2025 cbt admit card   \n",
       "4  1989f70956b3f9f9                           hpcl 2025 cbt admit card   \n",
       "\n",
       "              Sender                                               Body  \\\n",
       "0  delhivery limited  order cancelled delivered hey methari satwik y...   \n",
       "1                     dear candidate this has reference to your appl...   \n",
       "2                     dear candidate this has reference to your appl...   \n",
       "3                     dear candidate this has reference to your appl...   \n",
       "4                     dear candidate this has reference to your appl...   \n",
       "\n",
       "   Important  \n",
       "0          1  \n",
       "1          1  \n",
       "2          1  \n",
       "3          1  \n",
       "4          1  "
      ]
     },
     "execution_count": 62,
     "metadata": {},
     "output_type": "execute_result"
    }
   ],
   "source": [
    "#1.5 seconds faster for 250 rows of data\n",
    "df[[\"Subject\",\"Sender\"]] = df[\"Payload\"].apply(lambda x: pd.Series(extract_headers(x)))\n",
    "df[\"Body\"] = df[\"Payload\"].apply(decode_body)\n",
    "df.drop([\"Payload\"], axis=1, inplace=True)\n",
    "\n",
    "\n",
    "df2[[\"Subject\",\"Sender\"]] = df2[\"Payload\"].apply(lambda x: pd.Series(extract_headers(x)))\n",
    "df2[\"Body\"] = df2[\"Payload\"].apply(decode_body)\n",
    "df2.drop([\"Payload\"], axis=1, inplace=True)\n",
    "df2[\"Important\"] = 1\n",
    "df2.head(5)"
   ]
  },
  {
   "cell_type": "code",
   "execution_count": 5,
   "id": "db4d706c",
   "metadata": {},
   "outputs": [
    {
     "name": "stdout",
     "output_type": "stream",
     "text": [
      "\n",
      "--- Email ---\n",
      "From: \n",
      "Subject: transaction failure for standing instruction on your icici bank debit card\n",
      "Body:\n",
      "icici bank online dear customer your payment of inr 11900 towards google play app purchase services with standing instruction xeasctukqj through your icici bank debit card 0647 could not be processed click here to manage your standing instructions sincerely icici bank limited this is a system generated email please do not reply to this email confidentiality information and disclaimer this email message and its attachments may contain confidential proprietary or legally privileged information and is intended solely for the use of the individual or entity to whom it is addressed if you have erroneously received this message please delete it immediately and notify the sender if you are not the intended recipient of the email message you should not disseminate distribute or copy this email email transmission cannot be guaranteed to be secure or errorfree as information could be intercepted corrupted lost destroyed incomplete or contain viruses and the icici bank accepts no liability for any damage caused by the limitations of the email transmission now banking is more convenient with more than 4000 branches 24x7 atm services customer care internet banking mobile banking\n"
     ]
    }
   ],
   "source": [
    "from dags.utils import extract_headers, decode_body \n",
    "for payload in decompressed_data_1[\"Payload\"][19:20]:\n",
    "    subject, sender = extract_headers(payload)\n",
    "    body_text = decode_body(payload)\n",
    "\n",
    "    print(f\"\\n--- Email ---\")\n",
    "    print(f\"From: {sender}\")\n",
    "    print(f\"Subject: {subject}\")\n",
    "    print(f\"Body:\\n{body_text}\")"
   ]
  },
  {
   "cell_type": "code",
   "execution_count": 9,
   "id": "264513a1",
   "metadata": {},
   "outputs": [
    {
     "name": "stdout",
     "output_type": "stream",
     "text": [
      "16\n",
      "PyTorch version: 2.8.0+cu129\n",
      "CUDA available: True\n"
     ]
    }
   ],
   "source": [
    "import torch\n",
    "from multiprocessing import cpu_count\n",
    "from transformers import AutoModelForSequenceClassification, AutoTokenizer, Trainer, TrainingArguments\n",
    "print(cpu_count())\n",
    "print(\"PyTorch version:\", torch.__version__)\n",
    "print(\"CUDA available:\", torch.cuda.is_available())"
   ]
  },
  {
   "cell_type": "code",
   "execution_count": 11,
   "id": "aaf9fe81",
   "metadata": {},
   "outputs": [
    {
     "name": "stderr",
     "output_type": "stream",
     "text": [
      "Some weights of DistilBertForSequenceClassification were not initialized from the model checkpoint at distilbert-base-uncased and are newly initialized: ['classifier.bias', 'classifier.weight', 'pre_classifier.bias', 'pre_classifier.weight']\n",
      "You should probably TRAIN this model on a down-stream task to be able to use it for predictions and inference.\n"
     ]
    }
   ],
   "source": [
    "model_name = \"distilbert-base-uncased\"\n",
    "tokenizer = AutoTokenizer.from_pretrained(model_name)\n",
    "model = AutoModelForSequenceClassification.from_pretrained(model_name, num_labels = 2)"
   ]
  },
  {
   "cell_type": "code",
   "execution_count": 12,
   "id": "f3a2d6ab",
   "metadata": {},
   "outputs": [],
   "source": [
    "out = tokenizer(body_text,\n",
    "                truncation=True,       \n",
    "                max_length=512,        \n",
    "                padding=\"max_length\", \n",
    "                return_tensors=\"pt\",\n",
    "                return_length = True)"
   ]
  },
  {
   "cell_type": "code",
   "execution_count": 13,
   "id": "97023537",
   "metadata": {},
   "outputs": [
    {
     "name": "stdout",
     "output_type": "stream",
     "text": [
      "tensor([512])\n"
     ]
    }
   ],
   "source": [
    "print(out[\"length\"])"
   ]
  },
  {
   "cell_type": "code",
   "execution_count": null,
   "id": "69178479",
   "metadata": {},
   "outputs": [],
   "source": []
  }
 ],
 "metadata": {
  "kernelspec": {
   "display_name": "airflow-docker",
   "language": "python",
   "name": "python3"
  },
  "language_info": {
   "codemirror_mode": {
    "name": "ipython",
    "version": 3
   },
   "file_extension": ".py",
   "mimetype": "text/x-python",
   "name": "python",
   "nbconvert_exporter": "python",
   "pygments_lexer": "ipython3",
   "version": "3.12.11"
  }
 },
 "nbformat": 4,
 "nbformat_minor": 5
}
