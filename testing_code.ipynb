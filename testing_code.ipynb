{
 "cells": [
  {
   "cell_type": "code",
   "execution_count": null,
   "id": "2c4f6dab",
   "metadata": {},
   "outputs": [],
   "source": [
    "import os\n",
    "from dotenv import load_dotenv\n",
    "load_dotenv()\n",
    "\n",
    "# SCOPES: Gmail read-only\n",
    "SCOPES = ['https://www.googleapis.com/auth/gmail.readonly']\n",
    "token_path = os.getenv(\"token_path\")\n",
    "credentials_path = os.getenv(\"credentials_path\")"
   ]
  },
  {
   "cell_type": "code",
   "execution_count": null,
   "id": "2797cad8",
   "metadata": {},
   "outputs": [],
   "source": [
    "def get_message_metadata(service, user_id='me', max_results=5):\n",
    "    results = service.users().messages().list(userId=user_id, maxResults=max_results, q=\"after:2025/08/08\").execute()\n",
    "    messages = results.get('messages', [])\n",
    "\n",
    "    for _, msg in enumerate(messages):\n",
    "        msg_data = service.users().messages().get(userId=user_id, id=msg['id'], format='metadata', metadataHeaders=['Subject', 'From', 'Date']).execute()\n",
    "        headers = msg_data.get('payload', {}).get('headers', [])\n",
    "\n",
    "        email_info = {header['name']: header['value'] for header in headers if header['name'] in ['Subject', 'From', 'Date']}\n",
    "        print(f\"From: {email_info.get('From')}\")\n",
    "        print(f\"Subject: {email_info.get('Subject')}\")\n",
    "        print(f\"Date: {email_info.get('Date')}\")"
   ]
  },
  {
   "cell_type": "code",
   "execution_count": null,
   "id": "4c1da765",
   "metadata": {},
   "outputs": [
    {
     "data": {
      "text/html": [
       "<div>\n",
       "<style scoped>\n",
       "    .dataframe tbody tr th:only-of-type {\n",
       "        vertical-align: middle;\n",
       "    }\n",
       "\n",
       "    .dataframe tbody tr th {\n",
       "        vertical-align: top;\n",
       "    }\n",
       "\n",
       "    .dataframe thead th {\n",
       "        text-align: right;\n",
       "    }\n",
       "</style>\n",
       "<table border=\"1\" class=\"dataframe\">\n",
       "  <thead>\n",
       "    <tr style=\"text-align: right;\">\n",
       "      <th></th>\n",
       "      <th>Id</th>\n",
       "      <th>Payload</th>\n",
       "    </tr>\n",
       "  </thead>\n",
       "  <tbody>\n",
       "    <tr>\n",
       "      <th>0</th>\n",
       "      <td>1988691375a9beb7</td>\n",
       "      <td>{'partId': '', 'mimeType': 'multipart/alternat...</td>\n",
       "    </tr>\n",
       "    <tr>\n",
       "      <th>1</th>\n",
       "      <td>19885fd9b18c5065</td>\n",
       "      <td>{'partId': '', 'mimeType': 'multipart/mixed', ...</td>\n",
       "    </tr>\n",
       "  </tbody>\n",
       "</table>\n",
       "</div>"
      ],
      "text/plain": [
       "                 Id                                            Payload\n",
       "0  1988691375a9beb7  {'partId': '', 'mimeType': 'multipart/alternat...\n",
       "1  19885fd9b18c5065  {'partId': '', 'mimeType': 'multipart/mixed', ..."
      ]
     },
     "execution_count": 1,
     "metadata": {},
     "output_type": "execute_result"
    }
   ],
   "source": [
    "import gzip, msgspec\n",
    "import pandas as pd\n",
    "from dags.utils import extract_headers, decode_body \n",
    "path = \"C:/airflow-docker/data/15-08-2025-10-41.json.gz\"\n",
    "#Decompress and load\n",
    "with gzip.open(path, 'rb') as f:\n",
    "    decompressed_bytes = f.read()\n",
    "decompressed_data = msgspec.msgpack.decode(decompressed_bytes)\n",
    "\n",
    "df =pd.DataFrame(decompressed_data)\n",
    "payload = df.loc[3,[\"Payload\"]].values\n",
    "df.head(2)"
   ]
  },
  {
   "cell_type": "code",
   "execution_count": 2,
   "id": "13a2bf1c",
   "metadata": {},
   "outputs": [],
   "source": [
    "df[\"Headers\"] = df[\"Payload\"].apply(extract_headers)\n",
    "df[\"Body\"] = df[\"Payload\"].apply(decode_body)\n",
    "df[\"Subject\"] = df[\"Headers\"].apply(lambda x : x[0])\n",
    "df[\"Sender\"] = df[\"Headers\"].apply(lambda x : x[1])\n",
    "df.drop([\"Payload\", \"Headers\"], axis=1, inplace=True)"
   ]
  },
  {
   "cell_type": "code",
   "execution_count": 3,
   "id": "2f465a38",
   "metadata": {},
   "outputs": [
    {
     "data": {
      "text/html": [
       "<div>\n",
       "<style scoped>\n",
       "    .dataframe tbody tr th:only-of-type {\n",
       "        vertical-align: middle;\n",
       "    }\n",
       "\n",
       "    .dataframe tbody tr th {\n",
       "        vertical-align: top;\n",
       "    }\n",
       "\n",
       "    .dataframe thead th {\n",
       "        text-align: right;\n",
       "    }\n",
       "</style>\n",
       "<table border=\"1\" class=\"dataframe\">\n",
       "  <thead>\n",
       "    <tr style=\"text-align: right;\">\n",
       "      <th></th>\n",
       "      <th>Id</th>\n",
       "      <th>Body</th>\n",
       "      <th>Subject</th>\n",
       "      <th>Sender</th>\n",
       "    </tr>\n",
       "  </thead>\n",
       "  <tbody>\n",
       "    <tr>\n",
       "      <th>0</th>\n",
       "      <td>1988691375a9beb7</td>\n",
       "      <td>satwik ready to take your career to the next l...</td>\n",
       "      <td>Enhance Your Career with Braintrust's Career Help</td>\n",
       "      <td>Braintrust</td>\n",
       "    </tr>\n",
       "    <tr>\n",
       "      <th>1</th>\n",
       "      <td>19885fd9b18c5065</td>\n",
       "      <td>weekly digest hi leetcoder a leetcoder has rec...</td>\n",
       "      <td>LeetCode Weekly Digest</td>\n",
       "      <td>LeetCode</td>\n",
       "    </tr>\n",
       "    <tr>\n",
       "      <th>2</th>\n",
       "      <td>1988571a8df57281</td>\n",
       "      <td>competition launch open model redteaming chall...</td>\n",
       "      <td>Competition Launch: Open Model Red-Teaming Cha...</td>\n",
       "      <td>Kaggle</td>\n",
       "    </tr>\n",
       "    <tr>\n",
       "      <th>3</th>\n",
       "      <td>19884a794e87153f</td>\n",
       "      <td>None</td>\n",
       "      <td>Status of your job application has changed</td>\n",
       "      <td>Naukri</td>\n",
       "    </tr>\n",
       "    <tr>\n",
       "      <th>4</th>\n",
       "      <td>198863ac43083174</td>\n",
       "      <td>premium members are 26x more likely to get hir...</td>\n",
       "      <td>Methari, enjoy 50% off LinkedIn Premium for 2 ...</td>\n",
       "      <td>LinkedIn</td>\n",
       "    </tr>\n",
       "    <tr>\n",
       "      <th>5</th>\n",
       "      <td>19884d6cb429e40f</td>\n",
       "      <td>blackstraw is hiring job alert data engineeryo...</td>\n",
       "      <td>Data Engineer at Blackstraw and 12 more jobs i...</td>\n",
       "      <td>Glassdoor Jobs</td>\n",
       "    </tr>\n",
       "    <tr>\n",
       "      <th>6</th>\n",
       "      <td>19884da798c9f277</td>\n",
       "      <td>bytesar technologies is hiring job alert machi...</td>\n",
       "      <td>Ai/ml Excutive at Wellorgs Infotech Pvt. Ltd. ...</td>\n",
       "      <td>Glassdoor Jobs</td>\n",
       "    </tr>\n",
       "    <tr>\n",
       "      <th>7</th>\n",
       "      <td>198862a53f1f8273</td>\n",
       "      <td>jobs similar to data scientist at tallentoai m...</td>\n",
       "      <td>New jobs similar to Data Scientist at Tallento.ai</td>\n",
       "      <td>LinkedIn</td>\n",
       "    </tr>\n",
       "    <tr>\n",
       "      <th>8</th>\n",
       "      <td>19884a16f6fd5793</td>\n",
       "      <td>vcars auto private limited is hiring job alert...</td>\n",
       "      <td>Data Scientist at Hanumant Technology Pvt. Ltd...</td>\n",
       "      <td>Glassdoor Jobs</td>\n",
       "    </tr>\n",
       "    <tr>\n",
       "      <th>9</th>\n",
       "      <td>19884e1a5a79d487</td>\n",
       "      <td>posted on 862025 methari satwik top job picks ...</td>\n",
       "      <td>Dimitra Technology is hiring a Junior (Satelli...</td>\n",
       "      <td>LinkedIn</td>\n",
       "    </tr>\n",
       "  </tbody>\n",
       "</table>\n",
       "</div>"
      ],
      "text/plain": [
       "                 Id                                               Body  \\\n",
       "0  1988691375a9beb7  satwik ready to take your career to the next l...   \n",
       "1  19885fd9b18c5065  weekly digest hi leetcoder a leetcoder has rec...   \n",
       "2  1988571a8df57281  competition launch open model redteaming chall...   \n",
       "3  19884a794e87153f                                               None   \n",
       "4  198863ac43083174  premium members are 26x more likely to get hir...   \n",
       "5  19884d6cb429e40f  blackstraw is hiring job alert data engineeryo...   \n",
       "6  19884da798c9f277  bytesar technologies is hiring job alert machi...   \n",
       "7  198862a53f1f8273  jobs similar to data scientist at tallentoai m...   \n",
       "8  19884a16f6fd5793  vcars auto private limited is hiring job alert...   \n",
       "9  19884e1a5a79d487  posted on 862025 methari satwik top job picks ...   \n",
       "\n",
       "                                             Subject          Sender  \n",
       "0  Enhance Your Career with Braintrust's Career Help      Braintrust  \n",
       "1                             LeetCode Weekly Digest        LeetCode  \n",
       "2  Competition Launch: Open Model Red-Teaming Cha...          Kaggle  \n",
       "3         Status of your job application has changed          Naukri  \n",
       "4  Methari, enjoy 50% off LinkedIn Premium for 2 ...        LinkedIn  \n",
       "5  Data Engineer at Blackstraw and 12 more jobs i...  Glassdoor Jobs  \n",
       "6  Ai/ml Excutive at Wellorgs Infotech Pvt. Ltd. ...  Glassdoor Jobs  \n",
       "7  New jobs similar to Data Scientist at Tallento.ai        LinkedIn  \n",
       "8  Data Scientist at Hanumant Technology Pvt. Ltd...  Glassdoor Jobs  \n",
       "9  Dimitra Technology is hiring a Junior (Satelli...        LinkedIn  "
      ]
     },
     "execution_count": 3,
     "metadata": {},
     "output_type": "execute_result"
    }
   ],
   "source": [
    "df.head(10)"
   ]
  },
  {
   "cell_type": "code",
   "execution_count": null,
   "id": "7b66832d",
   "metadata": {},
   "outputs": [],
   "source": [
    "df[\"Sender\"].value_counts()"
   ]
  },
  {
   "cell_type": "code",
   "execution_count": null,
   "id": "75aa3c65",
   "metadata": {},
   "outputs": [],
   "source": [
    "x = payload.get(\"headers\", [])\n",
    "for h in x:\n",
    "    print(h)"
   ]
  },
  {
   "cell_type": "code",
   "execution_count": null,
   "id": "db4d706c",
   "metadata": {},
   "outputs": [],
   "source": [
    "from dags.utils import extract_headers, decode_body \n",
    "for payload in decompressed_data[\"Payload\"][:1]:\n",
    "    subject, sender = extract_headers(payload)\n",
    "    body_text = decode_body(payload, prefer_plain=True).strip()\n",
    "\n",
    "    print(f\"\\n--- Email ---\")\n",
    "    print(f\"From: {sender}\")\n",
    "    print(f\"Subject: {subject}\")\n",
    "    #print(f\"Body:\\n{body_text}\")"
   ]
  },
  {
   "cell_type": "code",
   "execution_count": null,
   "id": "53ba877c",
   "metadata": {},
   "outputs": [],
   "source": [
    "from dags.utils import preprocess_email_body\n",
    "# Example usage\n",
    "modified_text = preprocess_email_body(body_text)\n",
    "print(len(body_text), len(modified_text))"
   ]
  },
  {
   "cell_type": "code",
   "execution_count": null,
   "id": "69540565",
   "metadata": {},
   "outputs": [],
   "source": []
  }
 ],
 "metadata": {
  "kernelspec": {
   "display_name": "airflow-docker",
   "language": "python",
   "name": "python3"
  },
  "language_info": {
   "codemirror_mode": {
    "name": "ipython",
    "version": 3
   },
   "file_extension": ".py",
   "mimetype": "text/x-python",
   "name": "python",
   "nbconvert_exporter": "python",
   "pygments_lexer": "ipython3",
   "version": "3.12.11"
  }
 },
 "nbformat": 4,
 "nbformat_minor": 5
}
