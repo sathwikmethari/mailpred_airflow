{
 "cells": [
  {
   "cell_type": "code",
   "execution_count": 6,
   "id": "2c4f6dab",
   "metadata": {},
   "outputs": [],
   "source": [
    "import os\n",
    "from dotenv import load_dotenv\n",
    "load_dotenv()\n",
    "\n",
    "# SCOPES: Gmail read-only\n",
    "SCOPES = ['https://www.googleapis.com/auth/gmail.readonly']\n",
    "token_path = os.getenv(\"token_path\")\n",
    "credentials_path = os.getenv(\"credentials_path\")"
   ]
  },
  {
   "cell_type": "code",
   "execution_count": null,
   "id": "2797cad8",
   "metadata": {},
   "outputs": [],
   "source": [
    "def get_message_metadata(service, user_id='me', max_results=5):\n",
    "    results = service.users().messages().list(userId=user_id, maxResults=max_results, q=\"after:2025/08/08\").execute()\n",
    "    messages = results.get('messages', [])\n",
    "\n",
    "    for _, msg in enumerate(messages):\n",
    "        msg_data = service.users().messages().get(userId=user_id, id=msg['id'], format='metadata', metadataHeaders=['Subject', 'From', 'Date']).execute()\n",
    "        headers = msg_data.get('payload', {}).get('headers', [])\n",
    "\n",
    "        email_info = {header['name']: header['value'] for header in headers if header['name'] in ['Subject', 'From', 'Date']}\n",
    "        print(f\"From: {email_info.get('From')}\")\n",
    "        print(f\"Subject: {email_info.get('Subject')}\")\n",
    "        print(f\"Date: {email_info.get('Date')}\")"
   ]
  },
  {
   "cell_type": "code",
   "execution_count": 2,
   "id": "4c1da765",
   "metadata": {},
   "outputs": [
    {
     "data": {
      "text/html": [
       "<div>\n",
       "<style scoped>\n",
       "    .dataframe tbody tr th:only-of-type {\n",
       "        vertical-align: middle;\n",
       "    }\n",
       "\n",
       "    .dataframe tbody tr th {\n",
       "        vertical-align: top;\n",
       "    }\n",
       "\n",
       "    .dataframe thead th {\n",
       "        text-align: right;\n",
       "    }\n",
       "</style>\n",
       "<table border=\"1\" class=\"dataframe\">\n",
       "  <thead>\n",
       "    <tr style=\"text-align: right;\">\n",
       "      <th></th>\n",
       "      <th>Id</th>\n",
       "      <th>Payload</th>\n",
       "    </tr>\n",
       "  </thead>\n",
       "  <tbody>\n",
       "    <tr>\n",
       "      <th>0</th>\n",
       "      <td>1988691375a9beb7</td>\n",
       "      <td>{'partId': '', 'mimeType': 'multipart/alternat...</td>\n",
       "    </tr>\n",
       "    <tr>\n",
       "      <th>1</th>\n",
       "      <td>19885fd9b18c5065</td>\n",
       "      <td>{'partId': '', 'mimeType': 'multipart/mixed', ...</td>\n",
       "    </tr>\n",
       "  </tbody>\n",
       "</table>\n",
       "</div>"
      ],
      "text/plain": [
       "                 Id                                            Payload\n",
       "0  1988691375a9beb7  {'partId': '', 'mimeType': 'multipart/alternat...\n",
       "1  19885fd9b18c5065  {'partId': '', 'mimeType': 'multipart/mixed', ..."
      ]
     },
     "execution_count": 2,
     "metadata": {},
     "output_type": "execute_result"
    }
   ],
   "source": [
    "import gzip, msgspec\n",
    "import pandas as pd\n",
    "path = \"C:/airflow-docker/data/15-08-2025-10-41.json.gz\"\n",
    "#Decompress and load\n",
    "with gzip.open(path, 'rb') as f:\n",
    "    decompressed_bytes = f.read()\n",
    "decompressed_data = msgspec.msgpack.decode(decompressed_bytes)\n",
    "\n",
    "df =pd.DataFrame(decompressed_data)\n",
    "payload = df.loc[3,[\"Payload\"]].values\n",
    "df.head(2)"
   ]
  },
  {
   "cell_type": "code",
   "execution_count": 3,
   "id": "75aa3c65",
   "metadata": {},
   "outputs": [],
   "source": [
    "# x = payload[0].get(\"headers\", [])\n",
    "# for h in x:\n",
    "#     print(h)"
   ]
  },
  {
   "cell_type": "code",
   "execution_count": 4,
   "id": "db4d706c",
   "metadata": {},
   "outputs": [
    {
     "name": "stdout",
     "output_type": "stream",
     "text": [
      "\n",
      "--- Email ---\n",
      "From: Braintrust\n",
      "Subject: Enhance Your Career with Braintrust's Career Help\n",
      "Body:\n",
      "Satwik,\n",
      "\n",
      "Ready to take your career to the next level? Dive into Career Help https://usebraintrust.acemlnb.com/lt.php?x=3TZy~GDJKaSc6p39y_A6VhOh1XIiutfzjewzk8c7VXCZ6576-ky.0uFr1nRziNfuk_YwXXIWI3Og65Xt-x6.hFhv2nEik_f0lb, where you can ask questions, share insights, and network with industry leaders. Whether you're seeking advice on transitioning to a new field, finding the best tutorials, or improving your skills, our community supports you.\n",
      "\n",
      "Ask a question https://usebraintrust.acemlnb.com/lt.php?x=3TZy~GDJKaSc6p39y_A6VhOh1XIiutfzjewzk8c7VXCZ6576-ky.0uFr1nRziNfuk_YwXXIWI3Og65Xt-x6.hFhv2nEik_f0lb \n",
      "\n",
      "In Career Help, you can:\n",
      "\n",
      "* Ask questions: Get answers from experienced professionals.\n",
      "\n",
      "* Find mentorship: Give or get mentorship and personalized advice.\n",
      "\n",
      "* Network with peers: Connect with peers and industry leaders.\n",
      "\n",
      "* Join curated Spaces: Participate in curated groups focusing on your interests, offering a more personalized and interactive community experience.\n",
      "\n",
      "Get started\n",
      "today and unlock the full potential of your career journey.\n",
      "\n",
      "Did someone forward you this email? Click here to apply to join https://usebraintrust.acemlnb.com/lt.php?x=3TZy~GDJKaSc6p39y_A6VhOh1XIiutfzjewzk8c7VXCZ6576-ky.0uFr1nRziNfuk_YwXXIWI3Og6H1t-x6.hFhv2nEik_f0lb the thousands of freelancers who are leading the Talent revolution on the Braintrust Network!\n",
      "\n",
      "Use of the service and website is subject to our Terms of Service https://usebraintrust.acemlnb.com/lt.php?x=3TZy~GDJKaSc6p39y_A6VhOh1XIiutfzjewzk8c7VXCZ6576-ky.0uFr1nRziNfuk_YwXXIWI3Og6H5t-x6.hFhv2nEik_f0lb and Privacy Policy https://usebraintrust.acemlnb.com/lt.php?x=3TZy~GDJKaSc6p39y_A6VhOh1XIiutfzjewzk8c7VXCZ6576-ky.0uFr1nRziNfuk_YwXXIWI3Og6H9t-x6.hFhv2nEik_f0lb.\n",
      "\n",
      "© 2024 Braintrust. All rights reserved.\n",
      "\n",
      "Click here to manage your email preferences. https://usebraintrust.acemlnb.com/lt.php?x=3TZy~GDJKaSc6p39y_A6VhOh1XIiutfzjewzk8c7VXCZ6576-ky.0uFr1nRziNfuk_YwXXIWI3Og6H~t-x6.hFhv2nEik_f0lb\n",
      "\n",
      "Click here to unsubscribe\n",
      "https://usebraintrust.acemlnb.com/proc.php?nl=121&c=1028&m=1906&s=68d341405c6cf162c95074dffd00521b&act=unsub&runid=46528968\n",
      "\n",
      "Freelance Labs, Inc, 1421 N Jones Blvd, Unit #1031, Las Vegas, NV 89108, United States\n"
     ]
    }
   ],
   "source": [
    "from dags.utils import extract_headers, decode_body \n",
    "for payload in decompressed_data[\"Payload\"][:1]:\n",
    "    subject, sender = extract_headers(payload)\n",
    "    body_text = decode_body(payload, prefer_plain=True).strip()\n",
    "\n",
    "    print(f\"\\n--- Email ---\")\n",
    "    print(f\"From: {sender}\")\n",
    "    print(f\"Subject: {subject}\")\n",
    "    print(f\"Body:\\n{body_text}\")"
   ]
  },
  {
   "cell_type": "code",
   "execution_count": 5,
   "id": "53ba877c",
   "metadata": {},
   "outputs": [
    {
     "name": "stdout",
     "output_type": "stream",
     "text": [
      "2214 1147\n"
     ]
    }
   ],
   "source": [
    "from dags.utils import preprocess_email_body\n",
    "# Example usage\n",
    "modified_text = preprocess_email_body(body_text)\n",
    "print(len(body_text), len(modified_text))"
   ]
  },
  {
   "cell_type": "code",
   "execution_count": null,
   "id": "0371849f",
   "metadata": {},
   "outputs": [],
   "source": []
  }
 ],
 "metadata": {
  "kernelspec": {
   "display_name": "airflow-docker",
   "language": "python",
   "name": "python3"
  },
  "language_info": {
   "codemirror_mode": {
    "name": "ipython",
    "version": 3
   },
   "file_extension": ".py",
   "mimetype": "text/x-python",
   "name": "python",
   "nbconvert_exporter": "python",
   "pygments_lexer": "ipython3",
   "version": "3.12.11"
  }
 },
 "nbformat": 4,
 "nbformat_minor": 5
}
