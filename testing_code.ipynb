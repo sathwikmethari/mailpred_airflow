{
 "cells": [
  {
   "cell_type": "code",
   "execution_count": 1,
   "id": "2c4f6dab",
   "metadata": {},
   "outputs": [
    {
     "name": "stdout",
     "output_type": "stream",
     "text": [
      "PyTorch version: 2.8.0+cu129\n",
      "CUDA available: True\n"
     ]
    }
   ],
   "source": [
    "import torch, umap, optuna\n",
    "import numpy as np\n",
    "import pandas as pd\n",
    "import xgboost as xgb\n",
    "import matplotlib.pyplot as plt\n",
    "from dags.utils.gm_main_utils import get_embeddings\n",
    "from sklearn.model_selection import train_test_split \n",
    "from sklearn.metrics import recall_score, confusion_matrix\n",
    "from dags.utils.gm_data_utils import decode_zip, extract_headers, decode_body\n",
    "\n",
    "print(\"PyTorch version:\", torch.__version__)\n",
    "print(\"CUDA available:\", torch.cuda.is_available()) \n",
    "\n",
    "model_name = \"distilbert-base-uncased\""
   ]
  },
  {
   "cell_type": "code",
   "execution_count": 2,
   "id": "4c1da765",
   "metadata": {},
   "outputs": [],
   "source": [
    "path_1 = \"data/imp_22-08-2025-03-23.json.gz\"\n",
    "path_2 = \"data/unimp_22-08-2025-03-23.json.gz\"\n",
    "path_3 = \"data/15-08-2025-10-41.json.gz\"\n",
    "\n",
    "decompressed_data_1 = decode_zip(path_1)\n",
    "decompressed_data_2 = decode_zip(path_2)\n",
    "decompressed_data_3 = decode_zip(path_3)\n",
    "\n",
    "df_imp =pd.DataFrame(decompressed_data_1)[[\"Payload\"]]\n",
    "df_unimp =pd.DataFrame(decompressed_data_2)[[\"Payload\"]]\n",
    "df_unlb =pd.DataFrame(decompressed_data_3)[[\"Payload\"]]\n",
    "\n",
    "df_imp[\"Subject\"] = df_imp[\"Payload\"].apply(extract_headers)\n",
    "df_imp[\"Body\"] = df_imp[\"Payload\"].apply(decode_body)\n",
    "df_imp[\"Important\"] = 1\n",
    "df_imp = df_imp.drop([\"Payload\"], axis=1)\n",
    "\n",
    "df_unimp[\"Subject\"] = df_unimp[\"Payload\"].apply(extract_headers)\n",
    "df_unimp[\"Body\"] = df_unimp[\"Payload\"].apply(decode_body)\n",
    "df_unimp[\"Important\"] = 0\n",
    "df_unimp = df_unimp.drop([\"Payload\"], axis=1)\n",
    "\n",
    "df_unlb[\"Subject\"] = df_unlb[\"Payload\"].apply(extract_headers)\n",
    "df_unlb[\"Body\"] = df_unlb[\"Payload\"].apply(decode_body)\n",
    "df_unlb = df_unlb.drop([\"Payload\"], axis=1)"
   ]
  },
  {
   "cell_type": "code",
   "execution_count": 3,
   "id": "5890c64d",
   "metadata": {},
   "outputs": [
    {
     "data": {
      "text/plain": [
       "Subject       0\n",
       "Body         53\n",
       "Important     0\n",
       "dtype: int64"
      ]
     },
     "execution_count": 3,
     "metadata": {},
     "output_type": "execute_result"
    }
   ],
   "source": [
    "train = pd.concat([df_imp, df_unimp])\n",
    "train.isnull().sum()"
   ]
  },
  {
   "cell_type": "code",
   "execution_count": 4,
   "id": "25c3c410",
   "metadata": {},
   "outputs": [],
   "source": [
    "train[\"Body\"] = train[\"Body\"].fillna(train[\"Subject\"]*10)"
   ]
  },
  {
   "cell_type": "code",
   "execution_count": 5,
   "id": "76a8f7d4",
   "metadata": {},
   "outputs": [
    {
     "name": "stdout",
     "output_type": "stream",
     "text": [
      "0\n",
      "0\n"
     ]
    }
   ],
   "source": [
    "X = get_embeddings(train, model_name)\n",
    "print(X.get_device())\n",
    "y = torch.from_numpy(train.loc[:,\"Important\"].values).cuda()\n",
    "#y = train.loc[:,\"Important\"].values\n",
    "print(y.get_device())"
   ]
  },
  {
   "cell_type": "code",
   "execution_count": 6,
   "id": "3b465a1c",
   "metadata": {},
   "outputs": [],
   "source": [
    "X_train, X_test, y_train, y_test = train_test_split(X, y, test_size = 0.25, shuffle=True, random_state=42)"
   ]
  },
  {
   "cell_type": "code",
   "execution_count": 7,
   "id": "15bd6765",
   "metadata": {},
   "outputs": [
    {
     "name": "stderr",
     "output_type": "stream",
     "text": [
      "c:\\airflow-docker\\.venv\\Lib\\site-packages\\cupy\\_environment.py:215: UserWarning: CUDA path could not be detected. Set CUDA_PATH environment variable if CuPy fails to load.\n",
      "  warnings.warn(\n"
     ]
    }
   ],
   "source": [
    "dtrain = xgb.DMatrix(X_train, label= y_train)\n",
    "dtest = xgb.DMatrix(X_test)\n",
    "y_test_np = y_test.cpu().numpy()\n",
    "\n",
    "default_params = {\n",
    "        \"objective\": \"binary:logistic\", \n",
    "        \"eval_metric\": \"logloss\",\n",
    "        \"tree_method\": \"hist\",\n",
    "        \"device\": \"cuda\",\n",
    "        \"random_state\": 42,\n",
    "}\n",
    "def objective2(trial):\n",
    "    params = {\n",
    "        \"max_depth\": trial.suggest_int(\"max_depth\", 3, 15),\n",
    "        \"eta\": trial.suggest_float(\"eta\", 0.01, 0.3),\n",
    "        \"subsample\": trial.suggest_float(\"subsample\", 0.5, 1.0),\n",
    "        \"colsample_bytree\": trial.suggest_float(\"colsample_bytree\", 0.5, 1.0),\n",
    "        \"gamma\": trial.suggest_float(\"gamma\", 0, 5),\n",
    "        \"reg_alpha\": trial.suggest_float(\"reg_alpha\", 0, 5.0),\n",
    "        \"reg_lambda\": trial.suggest_float(\"reg_lambda\", 0, 5.0),\n",
    "        **default_params\n",
    "    }\n",
    "    \n",
    "\n",
    "    cls = xgb.train(params, dtrain, num_boost_round = 1500)    \n",
    "    y_pred_proba = cls.predict(dtest)\n",
    "\n",
    "    # Convert probabilities to binary predictions\n",
    "    y_pred_binary = (y_pred_proba > 0.50).astype(int)\n",
    "    \n",
    "    score = recall_score(y_test_np, y_pred_binary)\n",
    "    return score"
   ]
  },
  {
   "cell_type": "code",
   "execution_count": 8,
   "id": "64858d05",
   "metadata": {},
   "outputs": [
    {
     "name": "stderr",
     "output_type": "stream",
     "text": [
      "[I 2025-08-25 17:02:19,245] A new study created in memory with name: no-name-69b9aa29-7510-4b6c-9d54-09c267af73ec\n",
      "[I 2025-08-25 17:02:32,687] Trial 2 finished with value: 0.9 and parameters: {'max_depth': 6, 'eta': 0.26565074639230046, 'subsample': 0.9751212716078628, 'colsample_bytree': 0.6413406667691652, 'gamma': 3.12819745115653, 'reg_alpha': 0.6320367720969688, 'reg_lambda': 2.230189278164059}. Best is trial 2 with value: 0.9.\n",
      "[I 2025-08-25 17:02:32,736] Trial 4 finished with value: 0.9 and parameters: {'max_depth': 11, 'eta': 0.11573569297070115, 'subsample': 0.5663022769854849, 'colsample_bytree': 0.995771763091407, 'gamma': 3.849159784517969, 'reg_alpha': 0.8029804383763001, 'reg_lambda': 3.652380001627249}. Best is trial 2 with value: 0.9.\n",
      "[I 2025-08-25 17:02:32,929] Trial 0 finished with value: 0.875 and parameters: {'max_depth': 3, 'eta': 0.04017990705929193, 'subsample': 0.5458032592391183, 'colsample_bytree': 0.8676183832935391, 'gamma': 2.855499393084213, 'reg_alpha': 2.632604735398547, 'reg_lambda': 3.1668522805066}. Best is trial 2 with value: 0.9.\n",
      "[I 2025-08-25 17:02:33,236] Trial 3 finished with value: 0.9 and parameters: {'max_depth': 9, 'eta': 0.03461969742409044, 'subsample': 0.800014141326489, 'colsample_bytree': 0.7920125770800811, 'gamma': 2.470138875278351, 'reg_alpha': 4.234813093352934, 'reg_lambda': 1.0240837174870738}. Best is trial 2 with value: 0.9.\n",
      "[I 2025-08-25 17:02:33,804] Trial 1 finished with value: 0.9 and parameters: {'max_depth': 10, 'eta': 0.029811319720147895, 'subsample': 0.733487481161444, 'colsample_bytree': 0.8976121922108238, 'gamma': 2.3951655215088206, 'reg_alpha': 0.18680912672423167, 'reg_lambda': 3.429517734844845}. Best is trial 2 with value: 0.9.\n",
      "[I 2025-08-25 17:02:44,669] Trial 7 finished with value: 0.9 and parameters: {'max_depth': 7, 'eta': 0.2858727998580979, 'subsample': 0.7999361349514548, 'colsample_bytree': 0.6891161485529366, 'gamma': 4.722574464320676, 'reg_alpha': 2.845663465181233, 'reg_lambda': 2.106333873819448}. Best is trial 2 with value: 0.9.\n",
      "[I 2025-08-25 17:02:44,680] Trial 6 finished with value: 0.925 and parameters: {'max_depth': 9, 'eta': 0.20265758634441589, 'subsample': 0.5190049096217402, 'colsample_bytree': 0.73795799783148, 'gamma': 0.6902678451631122, 'reg_alpha': 2.048792059040856, 'reg_lambda': 1.2615632047466558}. Best is trial 6 with value: 0.925.\n",
      "[I 2025-08-25 17:02:44,685] Trial 5 finished with value: 0.9 and parameters: {'max_depth': 7, 'eta': 0.15527722476209374, 'subsample': 0.5330294151838403, 'colsample_bytree': 0.8452006877655908, 'gamma': 0.5126687347968634, 'reg_alpha': 3.4655199565070656, 'reg_lambda': 1.2530110258615312}. Best is trial 6 with value: 0.925.\n",
      "[I 2025-08-25 17:02:44,988] Trial 8 finished with value: 0.9 and parameters: {'max_depth': 10, 'eta': 0.11931759284555875, 'subsample': 0.6597241439429042, 'colsample_bytree': 0.6015497929145864, 'gamma': 2.897400799977178, 'reg_alpha': 2.1427821290947975, 'reg_lambda': 4.236736500863641}. Best is trial 6 with value: 0.925.\n",
      "[I 2025-08-25 17:02:45,373] Trial 9 finished with value: 0.875 and parameters: {'max_depth': 14, 'eta': 0.19984557550132803, 'subsample': 0.7268351427251472, 'colsample_bytree': 0.544062863973671, 'gamma': 3.573298568033108, 'reg_alpha': 4.663008754466785, 'reg_lambda': 3.818677232701699}. Best is trial 6 with value: 0.925.\n",
      "[I 2025-08-25 17:02:57,905] Trial 10 finished with value: 0.9 and parameters: {'max_depth': 8, 'eta': 0.23656820480114626, 'subsample': 0.5742395731633572, 'colsample_bytree': 0.7184297003447336, 'gamma': 2.917507384139082, 'reg_alpha': 0.8596114487312151, 'reg_lambda': 2.5206554435501722}. Best is trial 6 with value: 0.925.\n",
      "[I 2025-08-25 17:02:58,123] Trial 11 finished with value: 0.875 and parameters: {'max_depth': 7, 'eta': 0.17386108329297723, 'subsample': 0.6978051397165855, 'colsample_bytree': 0.7286869261148856, 'gamma': 0.5565334504908848, 'reg_alpha': 4.749205073536126, 'reg_lambda': 1.9102603040969224}. Best is trial 6 with value: 0.925.\n",
      "[I 2025-08-25 17:02:58,251] Trial 12 finished with value: 0.9 and parameters: {'max_depth': 5, 'eta': 0.1155761710365203, 'subsample': 0.815152779129561, 'colsample_bytree': 0.6912065035618297, 'gamma': 2.1291126005945142, 'reg_alpha': 1.0023777325663075, 'reg_lambda': 0.6296419255698749}. Best is trial 6 with value: 0.925.\n",
      "[I 2025-08-25 17:02:59,058] Trial 14 finished with value: 0.9 and parameters: {'max_depth': 15, 'eta': 0.21653018987467326, 'subsample': 0.9524742374330419, 'colsample_bytree': 0.7245567275415105, 'gamma': 0.012064662939903936, 'reg_alpha': 1.571147737986043, 'reg_lambda': 0.2392134750559758}. Best is trial 6 with value: 0.925.\n",
      "[I 2025-08-25 17:02:59,600] Trial 13 finished with value: 0.9 and parameters: {'max_depth': 8, 'eta': 0.03184139040990804, 'subsample': 0.6436038795449956, 'colsample_bytree': 0.9719260225329716, 'gamma': 3.903781024764938, 'reg_alpha': 0.37279611208383634, 'reg_lambda': 0.6965883827700953}. Best is trial 6 with value: 0.925.\n",
      "[I 2025-08-25 17:03:12,921] Trial 15 finished with value: 0.9 and parameters: {'max_depth': 13, 'eta': 0.19038529537517632, 'subsample': 0.9327746908110955, 'colsample_bytree': 0.9775813894016304, 'gamma': 1.113499991285462, 'reg_alpha': 1.6214550626931228, 'reg_lambda': 0.019264384665693468}. Best is trial 6 with value: 0.925.\n",
      "[I 2025-08-25 17:03:13,205] Trial 16 finished with value: 0.9 and parameters: {'max_depth': 12, 'eta': 0.08250897007286387, 'subsample': 0.9351017500682768, 'colsample_bytree': 0.9500167642576196, 'gamma': 1.5896090290544462, 'reg_alpha': 0.010214772725465782, 'reg_lambda': 0.2971347462506273}. Best is trial 6 with value: 0.925.\n",
      "[I 2025-08-25 17:03:13,488] Trial 17 finished with value: 0.9 and parameters: {'max_depth': 12, 'eta': 0.07195711237109766, 'subsample': 0.9341638636450321, 'colsample_bytree': 0.9956791801001734, 'gamma': 1.4746743929666164, 'reg_alpha': 1.750838760120896, 'reg_lambda': 4.822479022224018}. Best is trial 6 with value: 0.925.\n",
      "[I 2025-08-25 17:03:14,513] Trial 18 finished with value: 0.9 and parameters: {'max_depth': 12, 'eta': 0.0728667490723088, 'subsample': 0.6293137640944474, 'colsample_bytree': 0.9569888051068933, 'gamma': 1.6180562656374216, 'reg_alpha': 0.14884488356146497, 'reg_lambda': 4.938093618325814}. Best is trial 6 with value: 0.925.\n",
      "[I 2025-08-25 17:03:14,894] Trial 19 finished with value: 0.875 and parameters: {'max_depth': 13, 'eta': 0.07844645397524172, 'subsample': 0.8685638541536979, 'colsample_bytree': 0.8902249958652291, 'gamma': 1.577686765225958, 'reg_alpha': 1.8306969234390884, 'reg_lambda': 4.551901587139173}. Best is trial 6 with value: 0.925.\n",
      "[I 2025-08-25 17:03:26,020] Trial 21 finished with value: 0.925 and parameters: {'max_depth': 10, 'eta': 0.08038849507531481, 'subsample': 0.6087812808370612, 'colsample_bytree': 0.8840544350956681, 'gamma': 1.7655501330827899, 'reg_alpha': 3.5990415291849875, 'reg_lambda': 4.951521752266237}. Best is trial 6 with value: 0.925.\n",
      "[I 2025-08-25 17:03:26,128] Trial 20 finished with value: 0.9 and parameters: {'max_depth': 12, 'eta': 0.07792649964499125, 'subsample': 0.879346051688521, 'colsample_bytree': 0.886570200983916, 'gamma': 1.6847981977784983, 'reg_alpha': 0.041576126986248546, 'reg_lambda': 4.8248311260488475}. Best is trial 6 with value: 0.925.\n",
      "[I 2025-08-25 17:03:26,130] Trial 22 finished with value: 0.875 and parameters: {'max_depth': 10, 'eta': 0.24881511935783757, 'subsample': 0.6158632540081552, 'colsample_bytree': 0.8960590449138885, 'gamma': 1.8226973701105327, 'reg_alpha': 3.414843489935979, 'reg_lambda': 2.8284844886626423}. Best is trial 6 with value: 0.925.\n",
      "[I 2025-08-25 17:03:26,393] Trial 23 finished with value: 0.875 and parameters: {'max_depth': 10, 'eta': 0.24113343345257543, 'subsample': 0.8836302882993485, 'colsample_bytree': 0.8218046621101718, 'gamma': 2.15312441607169, 'reg_alpha': 3.164920097779388, 'reg_lambda': 2.92687514730199}. Best is trial 6 with value: 0.925.\n",
      "[I 2025-08-25 17:03:26,503] Trial 24 finished with value: 0.825 and parameters: {'max_depth': 10, 'eta': 0.23996858550817118, 'subsample': 0.6034214195016752, 'colsample_bytree': 0.8074863003343344, 'gamma': 4.623987694878307, 'reg_alpha': 3.2657652353967235, 'reg_lambda': 2.8775004855838544}. Best is trial 6 with value: 0.925.\n"
     ]
    }
   ],
   "source": [
    "# Run optimization\n",
    "study = optuna.create_study(direction=\"maximize\")\n",
    "study.optimize(objective2, n_trials=25, n_jobs=5)"
   ]
  },
  {
   "cell_type": "code",
   "execution_count": 9,
   "id": "4b8b8c34",
   "metadata": {},
   "outputs": [],
   "source": [
    "cls = xgb.train({**study.best_trial.params,\n",
    "                 **default_params,}, dtrain, num_boost_round = 1500)"
   ]
  },
  {
   "cell_type": "code",
   "execution_count": 10,
   "id": "beb0ee83",
   "metadata": {},
   "outputs": [
    {
     "data": {
      "text/plain": [
       "177"
      ]
     },
     "execution_count": 10,
     "metadata": {},
     "output_type": "execute_result"
    }
   ],
   "source": [
    "del dtest\n",
    "import gc\n",
    "gc.collect()"
   ]
  },
  {
   "cell_type": "code",
   "execution_count": 11,
   "id": "5185f59f",
   "metadata": {},
   "outputs": [],
   "source": [
    "# # UMAP reduction to 2D\n",
    "# umap_model = umap.UMAP(n_neighbors=10, min_dist=0.3, random_state=42, n_components=2)\n",
    "# emb_2d = umap_model.fit_transform(embeddings)\n",
    "\n",
    "# # Some Overlap is expected\n",
    "# #High-dimensional separation may not be visible in 2d\n",
    "# #Can try diff embedding/tokenizer\n",
    "\n",
    "\n",
    "# # Scatterplot\n",
    "# plt.figure(figsize=(6, 4))\n",
    "# scatter = plt.scatter(emb_2d[:, 0], emb_2d[:, 1], c=labels, cmap=\"Spectral\", alpha=0.8)\n",
    "# plt.xlabel(\"UMAP-1\")\n",
    "# plt.ylabel(\"UMAP-2\")\n",
    "# plt.title(\"Sentence Embeddings with UMAP (colored by label)\")\n",
    "# plt.colorbar(scatter, label=\"Dependent Variable (0/1)\")\n",
    "# plt.show()"
   ]
  },
  {
   "cell_type": "code",
   "execution_count": 12,
   "id": "41fa8075",
   "metadata": {},
   "outputs": [],
   "source": [
    "unlb_embeddings = get_embeddings(df_unlb, model_name)"
   ]
  },
  {
   "cell_type": "code",
   "execution_count": 13,
   "id": "186469fd",
   "metadata": {},
   "outputs": [],
   "source": [
    "epochs = 10\n",
    "thresh = 0.95\n",
    "\n",
    "\n",
    "optuna_params = study.best_trial.params\n",
    "\n",
    "X_c, y_c = X_train.clone(), y_train.clone()\n",
    "X_unlb = unlb_embeddings.clone()"
   ]
  },
  {
   "cell_type": "code",
   "execution_count": 14,
   "id": "ec6b6fb4",
   "metadata": {},
   "outputs": [
    {
     "name": "stdout",
     "output_type": "stream",
     "text": [
      "\n",
      ">>>>Epoch 1<<<<\n",
      "Added 143 pseudo samples. Labeled samples size: 374\n",
      "\n",
      ">>>>Epoch 2<<<<\n",
      "Added 30 pseudo samples. Labeled samples size: 404\n",
      "\n",
      ">>>>Epoch 3<<<<\n",
      "Added 7 pseudo samples. Labeled samples size: 411\n",
      "\n",
      ">>>>Epoch 4<<<<\n",
      "Added 4 pseudo samples. Labeled samples size: 415\n",
      "\n",
      ">>>>Epoch 5<<<<\n",
      "Added 3 pseudo samples. Labeled samples size: 418\n",
      "\n",
      ">>>>Epoch 6<<<<\n",
      "Added 2 pseudo samples. Labeled samples size: 420\n",
      "\n",
      ">>>>Epoch 7<<<<\n",
      "Added 2 pseudo samples. Labeled samples size: 422\n",
      "\n",
      ">>>>Epoch 8<<<<\n",
      "Added 1 pseudo samples. Labeled samples size: 423\n",
      "\n",
      ">>>>Epoch 9<<<<\n",
      "Added 1 pseudo samples. Labeled samples size: 424\n"
     ]
    }
   ],
   "source": [
    "for epoch in range(1,epochs):\n",
    "    print(f\"\\n>>>>Epoch {epoch}<<<<\")\n",
    "\n",
    "    dtrain = xgb.DMatrix(X_c, label=y_c)\n",
    "    model = xgb.train({**optuna_params,\n",
    "                       **default_params}, dtrain, num_boost_round=1500)\n",
    "\n",
    "    if len(X_unlb) == 0:\n",
    "        print(\"No unlabeled data left.\")\n",
    "        break\n",
    "\n",
    "    d_unlb = xgb.DMatrix(X_unlb)\n",
    "    y_proba = model.predict(d_unlb)\n",
    "    y_proba = torch.from_numpy(y_proba).cuda()\n",
    "\n",
    "    mask = (y_proba > thresh) | (y_proba < 1 - thresh) # a tensor of True, False... of shape y_proba\n",
    "    \n",
    "    if mask.sum() == 0:                                # True==1, False==0\n",
    "        print(\"No high-confidence samples found.\")\n",
    "        break\n",
    "\n",
    "    X_pseudo = X_unlb[mask]\n",
    "    y_pseudo = (y_proba[mask] > 0.5).int() # torch.int\n",
    "\n",
    "    # move high confidence rows from unlabeled to training set\n",
    "    X_c = torch.vstack([X_c, X_pseudo]) # stacks vertically. similar to 1d append but for high d's. \n",
    "    y_c = torch.cat([y_c, y_pseudo], axis =0)\n",
    "\n",
    "    # Remove high confidence rows\n",
    "    X_unlb = X_unlb[~mask]\n",
    "\n",
    "    print(f\"Added {len(X_pseudo)} pseudo samples. Labeled samples size: {len(y_c)}\")"
   ]
  },
  {
   "cell_type": "code",
   "execution_count": 15,
   "id": "62d55446",
   "metadata": {},
   "outputs": [],
   "source": [
    "# Train final model\n",
    "dfinal = xgb.DMatrix(X_c, label=y_c)\n",
    "final_model = xgb.train({**optuna_params,\n",
    "                 **default_params,}, dfinal, num_boost_round = 1500)"
   ]
  },
  {
   "cell_type": "code",
   "execution_count": 16,
   "id": "81d21fa0",
   "metadata": {},
   "outputs": [
    {
     "name": "stdout",
     "output_type": "stream",
     "text": [
      "[[34  3]\n",
      " [ 3 37]]\n"
     ]
    }
   ],
   "source": [
    "dunlabeled = xgb.DMatrix(X_test)\n",
    "y_pred_proba = final_model.predict(dunlabeled)\n",
    "\n",
    "# Convert probabilities to binary predictions\n",
    "# Decrease threshold for negating False Negatives\n",
    "y_pred_binary = (y_pred_proba >= 0.5).astype(int)\n",
    "\n",
    "from sklearn.metrics import confusion_matrix\n",
    "cm =confusion_matrix(y_test_np, y_pred_binary)\n",
    "print(cm)"
   ]
  },
  {
   "cell_type": "code",
   "execution_count": 17,
   "id": "6d664337",
   "metadata": {},
   "outputs": [
    {
     "name": "stdout",
     "output_type": "stream",
     "text": [
      "0.925\n"
     ]
    }
   ],
   "source": [
    "print(recall_score(y_test_np, y_pred_binary))"
   ]
  },
  {
   "cell_type": "code",
   "execution_count": 22,
   "id": "4f67b1b6",
   "metadata": {},
   "outputs": [],
   "source": [
    "final_model.save_model(\"data/XGBmodel.json\")"
   ]
  },
  {
   "cell_type": "code",
   "execution_count": null,
   "id": "c1cdca06",
   "metadata": {},
   "outputs": [],
   "source": [
    "sub = \"\"\n",
    "body = \"\"\"\n",
    "\"\"\""
   ]
  },
  {
   "cell_type": "code",
   "execution_count": 25,
   "id": "70a9bc2d",
   "metadata": {},
   "outputs": [
    {
     "name": "stdout",
     "output_type": "stream",
     "text": [
      "[0.7819592]\n"
     ]
    }
   ],
   "source": [
    "df_2 = pd.DataFrame({\n",
    "    \"Subject\": [sub],\n",
    "    \"Body\":[body]\n",
    "})\n",
    "\n",
    "embeddings_2 =get_embeddings(df_2, model_name)\n",
    "\n",
    "dunlabeled_2 = xgb.DMatrix(embeddings_2)\n",
    "y_pred_proba_2 = final_model.predict(dunlabeled_2)\n",
    "print(y_pred_proba_2)"
   ]
  },
  {
   "cell_type": "code",
   "execution_count": null,
   "id": "8e5f0cc4",
   "metadata": {},
   "outputs": [],
   "source": [
    "# xm= xgb.Booster()\n",
    "# xm.load_model(\"data/XGBmodel.json\")\n",
    "\n",
    "# config = xm.save_config()\n",
    "# print(config)\n"
   ]
  },
  {
   "cell_type": "code",
   "execution_count": null,
   "id": "fd1bc18b",
   "metadata": {},
   "outputs": [],
   "source": []
  }
 ],
 "metadata": {
  "kernelspec": {
   "display_name": "airflow-docker",
   "language": "python",
   "name": "python3"
  },
  "language_info": {
   "codemirror_mode": {
    "name": "ipython",
    "version": 3
   },
   "file_extension": ".py",
   "mimetype": "text/x-python",
   "name": "python",
   "nbconvert_exporter": "python",
   "pygments_lexer": "ipython3",
   "version": "3.12.11"
  }
 },
 "nbformat": 4,
 "nbformat_minor": 5
}
