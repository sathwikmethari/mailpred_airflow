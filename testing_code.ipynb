{
 "cells": [
  {
   "cell_type": "code",
   "execution_count": 1,
   "id": "2c4f6dab",
   "metadata": {},
   "outputs": [],
   "source": [
    "import os\n",
    "import pandas as pd\n",
    "from dotenv import load_dotenv\n",
    "from dags.utils import decode_zip, extract_headers, decode_body \n",
    "# load_dotenv()\n",
    "# # SCOPES: Gmail read-only\n",
    "# SCOPES = ['https://www.googleapis.com/auth/gmail.readonly']\n",
    "# token_path = os.getenv(\"token_path\")\n",
    "# credentials_path = os.getenv(\"credentials_path\")"
   ]
  },
  {
   "cell_type": "code",
   "execution_count": 6,
   "id": "4c1da765",
   "metadata": {},
   "outputs": [],
   "source": [
    "path_1 = \"data/starred_20-08-2025-09-49.json.gz\"\n",
    "path_2 = \"data/unimportant_20-08-2025-09-49.json.gz\"\n",
    "decompressed_data_1 = decode_zip(path_1)\n",
    "decompressed_data_2 = decode_zip(path_2)\n",
    "\n",
    "df_imp =pd.DataFrame(decompressed_data_1)\n",
    "df_unimp =pd.DataFrame(decompressed_data_2)"
   ]
  },
  {
   "cell_type": "code",
   "execution_count": null,
   "id": "13a2bf1c",
   "metadata": {},
   "outputs": [
    {
     "data": {
      "text/html": [
       "<div>\n",
       "<style scoped>\n",
       "    .dataframe tbody tr th:only-of-type {\n",
       "        vertical-align: middle;\n",
       "    }\n",
       "\n",
       "    .dataframe tbody tr th {\n",
       "        vertical-align: top;\n",
       "    }\n",
       "\n",
       "    .dataframe thead th {\n",
       "        text-align: right;\n",
       "    }\n",
       "</style>\n",
       "<table border=\"1\" class=\"dataframe\">\n",
       "  <thead>\n",
       "    <tr style=\"text-align: right;\">\n",
       "      <th></th>\n",
       "      <th>Id</th>\n",
       "      <th>Important</th>\n",
       "      <th>Subject</th>\n",
       "      <th>Sender</th>\n",
       "      <th>Body</th>\n",
       "    </tr>\n",
       "  </thead>\n",
       "  <tbody>\n",
       "    <tr>\n",
       "      <th>0</th>\n",
       "      <td>198c257736d2c031</td>\n",
       "      <td>0</td>\n",
       "      <td>hey looking out for reccomendation on below of...</td>\n",
       "      <td>glassdoor community</td>\n",
       "      <td>get the latest tech india trending posts tech ...</td>\n",
       "    </tr>\n",
       "    <tr>\n",
       "      <th>1</th>\n",
       "      <td>198c2596e59da1b6</td>\n",
       "      <td>0</td>\n",
       "      <td>agentic ai developer at aritha consulting serv...</td>\n",
       "      <td>glassdoor jobs</td>\n",
       "      <td>sb infowaves is hiring job alert machine learn...</td>\n",
       "    </tr>\n",
       "    <tr>\n",
       "      <th>2</th>\n",
       "      <td>198c2124c1f7f8e7</td>\n",
       "      <td>0</td>\n",
       "      <td>data scientist at bloktrek</td>\n",
       "      <td>jushey from instahyre</td>\n",
       "      <td>hey satwik methari we have some career opportu...</td>\n",
       "    </tr>\n",
       "    <tr>\n",
       "      <th>3</th>\n",
       "      <td>198bc4ad4b9fb329</td>\n",
       "      <td>0</td>\n",
       "      <td>new activity in general announcements</td>\n",
       "      <td>freelancercom</td>\n",
       "      <td>new activity in general announcements new post...</td>\n",
       "    </tr>\n",
       "    <tr>\n",
       "      <th>4</th>\n",
       "      <td>198c0e9a42037805</td>\n",
       "      <td>0</td>\n",
       "      <td>bring home the chef vibes</td>\n",
       "      <td>zepp student purchase program</td>\n",
       "      <td>cook faster eat better from breakfast to dinne...</td>\n",
       "    </tr>\n",
       "  </tbody>\n",
       "</table>\n",
       "</div>"
      ],
      "text/plain": [
       "                 Id  Important  \\\n",
       "0  198c257736d2c031          0   \n",
       "1  198c2596e59da1b6          0   \n",
       "2  198c2124c1f7f8e7          0   \n",
       "3  198bc4ad4b9fb329          0   \n",
       "4  198c0e9a42037805          0   \n",
       "\n",
       "                                             Subject  \\\n",
       "0  hey looking out for reccomendation on below of...   \n",
       "1  agentic ai developer at aritha consulting serv...   \n",
       "2                         data scientist at bloktrek   \n",
       "3              new activity in general announcements   \n",
       "4                          bring home the chef vibes   \n",
       "\n",
       "                          Sender  \\\n",
       "0            glassdoor community   \n",
       "1                 glassdoor jobs   \n",
       "2          jushey from instahyre   \n",
       "3                  freelancercom   \n",
       "4  zepp student purchase program   \n",
       "\n",
       "                                                Body  \n",
       "0  get the latest tech india trending posts tech ...  \n",
       "1  sb infowaves is hiring job alert machine learn...  \n",
       "2  hey satwik methari we have some career opportu...  \n",
       "3  new activity in general announcements new post...  \n",
       "4  cook faster eat better from breakfast to dinne...  "
      ]
     },
     "execution_count": 7,
     "metadata": {},
     "output_type": "execute_result"
    }
   ],
   "source": [
    "#1.5 seconds faster for 250 rows of data\n",
    "df_imp[[\"Subject\",\"Sender\"]] = df_imp[\"Payload\"].apply(lambda x: pd.Series(extract_headers(x)))\n",
    "df_imp[\"Body\"] = df_imp[\"Payload\"].apply(decode_body)\n",
    "df_imp.drop([\"Payload\"], axis=1, inplace=True)\n",
    "df_unimp[\"Important\"] = 0\n",
    "\n",
    "\n",
    "df_unimp[\"Subject\"] = df_unimp[\"Payload\"].apply(extract_headers)\n",
    "df_unimp[\"Body\"] = df_unimp[\"Payload\"].apply(decode_body)\n",
    "df_unimp.drop([\"Payload\"], axis=1, inplace=True)\n",
    "df_unimp[\"Important\"] = 0\n",
    "df_unimp.head(5)"
   ]
  },
  {
   "cell_type": "code",
   "execution_count": 12,
   "id": "db4d706c",
   "metadata": {},
   "outputs": [
    {
     "name": "stdout",
     "output_type": "stream",
     "text": [
      "\n",
      "--- Email ---\n",
      "From: \n",
      "Subject: hpcl 2025 cbt admit card\n",
      "Body:\n",
      "dear candidate this has reference to your application for the position of electrical engineer corresponding to hpcl recruitment notification you can download your admit card for your computer based test scheduled on 16th august 2025 by clicking on the following link for login please use below credentials user 202607010999 password date of birth ddmmyyyy note after 1st login please change the passwords or else please direct download from below link ht path please note that no request for change in test centre will be entertained you may however contact 02261087523 for any other queries mon to sat 900 am to 600 pm regards hpcl help desk\n"
     ]
    }
   ],
   "source": [
    "from dags.utils import extract_headers, decode_body \n",
    "for payload in decompressed_data_1[\"Payload\"][7:8]:\n",
    "    subject, sender = extract_headers(payload)\n",
    "    body_text = decode_body(payload)\n",
    "\n",
    "    print(f\"\\n--- Email ---\")\n",
    "    print(f\"From: {sender}\")\n",
    "    print(f\"Subject: {subject}\")\n",
    "    print(f\"Body:\\n{body_text}\")"
   ]
  },
  {
   "cell_type": "code",
   "execution_count": 9,
   "id": "264513a1",
   "metadata": {},
   "outputs": [
    {
     "name": "stdout",
     "output_type": "stream",
     "text": [
      "16\n",
      "PyTorch version: 2.8.0+cu129\n",
      "CUDA available: True\n"
     ]
    }
   ],
   "source": [
    "import torch\n",
    "from multiprocessing import cpu_count\n",
    "from transformers import AutoModelForSequenceClassification, AutoTokenizer, Trainer, TrainingArguments\n",
    "print(cpu_count())\n",
    "print(\"PyTorch version:\", torch.__version__)\n",
    "print(\"CUDA available:\", torch.cuda.is_available())"
   ]
  },
  {
   "cell_type": "code",
   "execution_count": 11,
   "id": "aaf9fe81",
   "metadata": {},
   "outputs": [
    {
     "name": "stderr",
     "output_type": "stream",
     "text": [
      "Some weights of DistilBertForSequenceClassification were not initialized from the model checkpoint at distilbert-base-uncased and are newly initialized: ['classifier.bias', 'classifier.weight', 'pre_classifier.bias', 'pre_classifier.weight']\n",
      "You should probably TRAIN this model on a down-stream task to be able to use it for predictions and inference.\n"
     ]
    }
   ],
   "source": [
    "model_name = \"distilbert-base-uncased\"\n",
    "tokenizer = AutoTokenizer.from_pretrained(model_name)\n",
    "model = AutoModelForSequenceClassification.from_pretrained(model_name, num_labels = 2)"
   ]
  },
  {
   "cell_type": "code",
   "execution_count": 12,
   "id": "f3a2d6ab",
   "metadata": {},
   "outputs": [],
   "source": [
    "out = tokenizer(body_text,\n",
    "                truncation=True,       \n",
    "                max_length=512,        \n",
    "                padding=\"max_length\", \n",
    "                return_tensors=\"pt\",\n",
    "                return_length = True)"
   ]
  },
  {
   "cell_type": "code",
   "execution_count": 13,
   "id": "97023537",
   "metadata": {},
   "outputs": [
    {
     "name": "stdout",
     "output_type": "stream",
     "text": [
      "tensor([512])\n"
     ]
    }
   ],
   "source": [
    "print(out[\"length\"])"
   ]
  },
  {
   "cell_type": "code",
   "execution_count": null,
   "id": "69178479",
   "metadata": {},
   "outputs": [],
   "source": []
  }
 ],
 "metadata": {
  "kernelspec": {
   "display_name": "airflow-docker",
   "language": "python",
   "name": "python3"
  },
  "language_info": {
   "codemirror_mode": {
    "name": "ipython",
    "version": 3
   },
   "file_extension": ".py",
   "mimetype": "text/x-python",
   "name": "python",
   "nbconvert_exporter": "python",
   "pygments_lexer": "ipython3",
   "version": "3.12.11"
  }
 },
 "nbformat": 4,
 "nbformat_minor": 5
}
